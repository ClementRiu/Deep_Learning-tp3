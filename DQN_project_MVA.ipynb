{
 "cells": [
  {
   "cell_type": "markdown",
   "metadata": {},
   "source": [
    "**You may need to install [OpenCV](https://pypi.python.org/pypi/opencv-python) and [scikit-video](http://www.scikit-video.org/stable/).**"
   ]
  },
  {
   "cell_type": "code",
   "execution_count": 1,
   "metadata": {},
   "outputs": [
    {
     "name": "stderr",
     "output_type": "stream",
     "text": [
      "Using TensorFlow backend.\n"
     ]
    }
   ],
   "source": [
    "import keras\n",
    "import numpy as np\n",
    "import io\n",
    "import base64\n",
    "from IPython.display import HTML\n",
    "import skvideo.io\n",
    "import cv2\n",
    "import json\n",
    "\n",
    "from keras.models import Sequential,model_from_json\n",
    "from keras.layers.core import Dense\n",
    "from keras.optimizers import sgd\n",
    "from keras.layers import Conv2D, MaxPooling2D, Activation, AveragePooling2D,Reshape,BatchNormalization, Flatten, Input"
   ]
  },
  {
   "cell_type": "markdown",
   "metadata": {},
   "source": [
    "# MiniProject #3: Deep Reinforcement Learning"
   ]
  },
  {
   "cell_type": "markdown",
   "metadata": {},
   "source": [
    "__Notations__: $E_p$ is the expectation under probability $p$. Please justify each of your answer and widely comment your code."
   ]
  },
  {
   "cell_type": "markdown",
   "metadata": {},
   "source": [
    "# Context"
   ]
  },
  {
   "cell_type": "markdown",
   "metadata": {},
   "source": [
    "In a reinforcement learning algorithm, we modelize each step $t$ as an action $a_t$ obtained from a state $s_t$, i.e. $\\{(a_{t},s_{t})_{t\\leq T}\\}$ having the Markov property. We consider a discount factor $\\gamma \\in [0,1]$ that ensures convergence. The goal is to find among all the policies $\\pi$, one that maximizes the expected reward:\n",
    "\n",
    "\\begin{equation*}\n",
    "R(\\pi)=\\sum_{t\\leq T}E_{p^{\\pi}}[\\gamma^t r(s_{t},a_{t})] \\> ,\n",
    "\\end{equation*}\n",
    "\n",
    "where: \n",
    "\\begin{equation*}p^{\\pi}(a_{0},a_{1},s_{1},...,a_{T},s_{T})=p(a_{0})\\prod_{t=1}^{T}\\pi(a_{t}|s_{t})p(s_{t+1}|s_{t},a_{t}) \\> .\n",
    "\\end{equation*}\n",
    "\n",
    "We note the $Q$-function:\n",
    "\n",
    "\\begin{equation*}Q^\\pi(s,a)=E_{p^{\\pi}}[\\sum_{t\\leq T}\\gamma^{t}r(s_{t},a_{t})|s_{0}=s,a_{0}=a] \\> .\n",
    "\\end{equation*}\n",
    "\n",
    "Thus, the optimal Q function is:\n",
    "\\begin{equation*}\n",
    "Q^*(s,a)=\\max_{\\pi}Q^\\pi(s,a) \\> .\n",
    "\\end{equation*}\n",
    "\n",
    "In this project, we will apply the deep reinforcement learning techniques to a simple game: an agent will have to learn from scratch a policy that will permit it maximizing a reward."
   ]
  },
  {
   "cell_type": "markdown",
   "metadata": {},
   "source": [
    "## The environment, the agent and the game"
   ]
  },
  {
   "cell_type": "markdown",
   "metadata": {},
   "source": [
    "### The environment"
   ]
  },
  {
   "cell_type": "markdown",
   "metadata": {},
   "source": [
    "```Environment``` is an abstract class that represents the states, rewards, and actions to obtain the new state."
   ]
  },
  {
   "cell_type": "code",
   "execution_count": 2,
   "metadata": {},
   "outputs": [],
   "source": [
    "class Environment(object):\n",
    "    def __init__(self):\n",
    "        pass\n",
    "\n",
    "    def act(self, act):\n",
    "        \"\"\"\n",
    "        One can act on the environment and obtain its reaction:\n",
    "        - the new state\n",
    "        - the reward of the new state\n",
    "        - should we continue the game?\n",
    "\n",
    "        :return: state, reward, game_over\n",
    "        \"\"\"\n",
    "        pass\n",
    "\n",
    "\n",
    "    def reset(self):\n",
    "        \"\"\"\n",
    "        Reinitialize the environment to a random state and returns\n",
    "        the original state\n",
    "\n",
    "        :return: state\n",
    "        \"\"\"\n",
    "        pass\n",
    "    \n",
    "    def draw(self):\n",
    "        \"\"\"\n",
    "        Visualize in the console or graphically the current state\n",
    "        \"\"\"\n",
    "        pass"
   ]
  },
  {
   "cell_type": "markdown",
   "metadata": {},
   "source": [
    "The method ```act``` allows to act on the environment at a given state $s_t$ (stored internally), via action $a_t$. The method will return the new state $s_{t+1}$, the reward $r(s_{t},a_{t})$ and determines if $t\\leq T$ (*game_over*).\n",
    "\n",
    "The method ```reset``` simply reinitializes the environment to a random state $s_0$.\n",
    "\n",
    "The method ```draw``` displays the current state $s_t$ (this is useful to check the behavior of the Agent).\n",
    "\n",
    "We modelize $s_t$ as a tensor, while $a_t$ is an integer."
   ]
  },
  {
   "cell_type": "markdown",
   "metadata": {},
   "source": [
    "### The Agent"
   ]
  },
  {
   "cell_type": "markdown",
   "metadata": {},
   "source": [
    "The goal of the ```Agent``` is to interact with the ```Environment``` by proposing actions $a_t$ obtained from a given state $s_t$ to attempt to maximize its __reward__ $r(s_t,a_t)$. We propose the following abstract class:"
   ]
  },
  {
   "cell_type": "code",
   "execution_count": 3,
   "metadata": {},
   "outputs": [],
   "source": [
    "class Agent(object):\n",
    "    def __init__(self, epsilon=0.1, n_action=4):\n",
    "        self.epsilon = epsilon\n",
    "        self.n_action = n_action\n",
    "    \n",
    "    def set_epsilon(self,e):\n",
    "        self.epsilon = e\n",
    "\n",
    "    def act(self,s,train=True):\n",
    "        \"\"\" This function should return the next action to do:\n",
    "        an integer between 0 and 4 (not included) with a random exploration of epsilon\"\"\"\n",
    "        if train:\n",
    "            if np.random.rand() <= self.epsilon:\n",
    "                a = np.random.randint(0, self.n_action, size=1)[0]\n",
    "            else:\n",
    "                a = self.learned_act(s)\n",
    "        else: # in some cases, this can improve the performance.. remove it if poor performances\n",
    "            a = self.learned_act(s)\n",
    "\n",
    "        return a\n",
    "\n",
    "    def learned_act(self,s):\n",
    "        \"\"\" Act via the policy of the agent, from a given state s\n",
    "        it proposes an action a\"\"\"\n",
    "        pass\n",
    "\n",
    "    def reinforce(self, s, n_s, a, r, game_over_):\n",
    "        \"\"\" This function is the core of the learning algorithm. \n",
    "        It takes as an input the current state s_, the next state n_s_\n",
    "        the action a_ used to move from s_ to n_s_ and the reward r_.\n",
    "        \n",
    "        Its goal is to learn a policy.\n",
    "        \"\"\"\n",
    "        pass\n",
    "\n",
    "    def save(self):\n",
    "        \"\"\" This function returns basic stats if applicable: the\n",
    "        loss and/or the model\"\"\"\n",
    "        pass\n",
    "\n",
    "    def load(self):\n",
    "        \"\"\" This function allows to restore a model\"\"\"\n",
    "        pass"
   ]
  },
  {
   "cell_type": "markdown",
   "metadata": {},
   "source": [
    "***\n",
    "__Question 1__:\n",
    "Explain the function act. Why is ```epsilon``` essential?"
   ]
  },
  {
   "cell_type": "markdown",
   "metadata": {},
   "source": [
    "> The act function gives the action to do for a given state based on the learned policy. The parameter `epsilon` determines, during training, when to deviate from the learned policy and when to explore new possible actions. It is thanks to this parameter that the algorithm is capable of learning. `epsilon` rules the trade-of between exploration and exploitation."
   ]
  },
  {
   "cell_type": "markdown",
   "metadata": {},
   "source": [
    "***\n",
    "### The Game"
   ]
  },
  {
   "cell_type": "markdown",
   "metadata": {},
   "source": [
    "The ```Agent``` and the ```Environment``` work in an interlaced way as in the following (take some time to understand this code as it is the core of the project)\n",
    "\n",
    "```python\n",
    "\n",
    "epoch = 300\n",
    "env = Environment()\n",
    "agent = Agent()\n",
    "\n",
    "\n",
    "# Number of won games\n",
    "score = 0\n",
    "loss = 0\n",
    "\n",
    "\n",
    "for e in range(epoch):\n",
    "    # At each epoch, we restart to a fresh game and get the initial state\n",
    "    state = env.reset()\n",
    "    # This assumes that the games will end\n",
    "    game_over = False\n",
    "\n",
    "    win = 0\n",
    "    lose = 0\n",
    "    \n",
    "    while not game_over:\n",
    "        # The agent performs an action\n",
    "        action = agent.act(state)\n",
    "\n",
    "        # Apply an action to the environment, get the next state, the reward\n",
    "        # and if the games end\n",
    "        prev_state = state\n",
    "        state, reward, game_over = env.act(action)\n",
    "\n",
    "        # Update the counters\n",
    "        if reward > 0:\n",
    "            win = win + reward\n",
    "        if reward < 0:\n",
    "            lose = lose -reward\n",
    "\n",
    "        # Apply the reinforcement strategy\n",
    "        loss = agent.reinforce(prev_state, state,  action, reward, game_over)\n",
    "\n",
    "    # Save as a mp4\n",
    "    if e % 10 == 0:\n",
    "        env.draw(e)\n",
    "\n",
    "    # Update stats\n",
    "    score += win-lose\n",
    "\n",
    "    print(\"Epoch {:03d}/{:03d} | Loss {:.4f} | Win/lose count {}/{} ({})\"\n",
    "          .format(e, epoch, loss, win, lose, win-lose))\n",
    "    agent.save()\n",
    "```"
   ]
  },
  {
   "cell_type": "markdown",
   "metadata": {},
   "source": [
    "# The game, *eat cheese*"
   ]
  },
  {
   "cell_type": "markdown",
   "metadata": {},
   "source": [
    "A rat runs on an island and tries to eat as much as possible. The island is subdivided into $N\\times N$ cells, in which there are cheese (+0.5) and poisonous cells (-1). The rat has a visibility of 2 cells (thus it can see $5^2$ cells). The rat is given a time $T$ to accumulate as much food as possible. It can perform 4 actions: going up, down, left, right. \n",
    "\n",
    "The goal is to code an agent to solve this task that will learn by trial and error. We propose the following environment:"
   ]
  },
  {
   "cell_type": "code",
   "execution_count": 4,
   "metadata": {},
   "outputs": [],
   "source": [
    "class Environment(object):\n",
    "    def __init__(self, grid_size=10, max_time=500, temperature=0.1):\n",
    "        grid_size = grid_size+4\n",
    "        self.grid_size = grid_size\n",
    "        self.max_time = max_time\n",
    "        self.temperature = temperature\n",
    "\n",
    "        #board on which one plays\n",
    "        self.board = np.zeros((grid_size,grid_size))\n",
    "        self.position = np.zeros((grid_size,grid_size))\n",
    "\n",
    "        # coordinate of the cat\n",
    "        self.x = 0\n",
    "        self.y = 1\n",
    "\n",
    "        # self time\n",
    "        self.t = 0\n",
    "\n",
    "        self.scale=16\n",
    "\n",
    "        self.to_draw = np.zeros((max_time+2, grid_size*self.scale, grid_size*self.scale, 3))\n",
    "\n",
    "\n",
    "    def draw(self,e):\n",
    "        skvideo.io.vwrite(str(e) + '.mp4', self.to_draw)\n",
    "\n",
    "    def get_frame(self,t):\n",
    "        b = np.zeros((self.grid_size,self.grid_size,3))+128\n",
    "        b[self.board>0,0] = 256\n",
    "        b[self.board < 0, 2] = 256\n",
    "        b[self.x,self.y,:]=256\n",
    "        b[-2:,:,:]=0\n",
    "        b[:,-2:,:]=0\n",
    "        b[:2,:,:]=0\n",
    "        b[:,:2,:]=0\n",
    "        \n",
    "        b =  cv2.resize(b, None, fx=self.scale, fy=self.scale, interpolation=cv2.INTER_NEAREST)\n",
    "\n",
    "        self.to_draw[t,:,:,:]=b\n",
    "\n",
    "\n",
    "    def act(self, action):\n",
    "        \"\"\"This function returns the new state, reward and decides if the\n",
    "        game ends.\"\"\"\n",
    "\n",
    "        self.get_frame(int(self.t))\n",
    "\n",
    "        self.position = np.zeros((self.grid_size, self.grid_size))\n",
    "\n",
    "        self.position[0:2,:]= -1\n",
    "        self.position[:,0:2] = -1\n",
    "        self.position[-2:, :] = -1\n",
    "        self.position[-2:, :] = -1\n",
    "\n",
    "        self.position[self.x, self.y] = 1\n",
    "        if action == 0:\n",
    "            if self.x == self.grid_size-3:\n",
    "                self.x = self.x-1\n",
    "            else:\n",
    "                self.x = self.x + 1\n",
    "        elif action == 1:\n",
    "            if self.x == 2:\n",
    "                self.x = self.x+1\n",
    "            else:\n",
    "                self.x = self.x-1\n",
    "        elif action == 2:\n",
    "            if self.y == self.grid_size - 3:\n",
    "                self.y = self.y - 1\n",
    "            else:\n",
    "                self.y = self.y + 1\n",
    "        elif action == 3:\n",
    "            if self.y == 2:\n",
    "                self.y = self.y + 1\n",
    "            else:\n",
    "                self.y = self.y - 1\n",
    "        else:\n",
    "            RuntimeError('Error: action not recognized')\n",
    "\n",
    "        self.t = self.t + 1\n",
    "        reward = self.board[self.x, self.y]\n",
    "        self.board[self.x, self.y] = 0\n",
    "        game_over = self.t > self.max_time\n",
    "        state = np.concatenate((self.board.reshape(self.grid_size, self.grid_size,1),\n",
    "                        self.position.reshape(self.grid_size, self.grid_size,1)),axis=2)\n",
    "        state = state[self.x-2:self.x+3,self.y-2:self.y+3,:]\n",
    "\n",
    "        return state, reward, game_over\n",
    "\n",
    "    def reset(self):\n",
    "        \"\"\"This function resets the game and returns the initial state\"\"\"\n",
    "\n",
    "        self.x = np.random.randint(3, self.grid_size-3, size=1)[0]\n",
    "        self.y = np.random.randint(3, self.grid_size-3, size=1)[0]\n",
    "\n",
    "\n",
    "        bonus = 0.5*np.random.binomial(1,self.temperature,size=self.grid_size**2)\n",
    "        bonus = bonus.reshape(self.grid_size,self.grid_size)\n",
    "\n",
    "        malus = -1.0*np.random.binomial(1,self.temperature,size=self.grid_size**2)\n",
    "        malus = malus.reshape(self.grid_size, self.grid_size)\n",
    "\n",
    "        self.to_draw = np.zeros((self.max_time+2, self.grid_size*self.scale, self.grid_size*self.scale, 3))\n",
    "\n",
    "\n",
    "        malus[bonus>0]=0\n",
    "\n",
    "        self.board = bonus + malus\n",
    "\n",
    "        self.position = np.zeros((self.grid_size, self.grid_size))\n",
    "        self.position[0:2,:]= -1\n",
    "        self.position[:,0:2] = -1\n",
    "        self.position[-2:, :] = -1\n",
    "        self.position[-2:, :] = -1\n",
    "        self.board[self.x,self.y] = 0\n",
    "        self.t = 0\n",
    "\n",
    "        state = np.concatenate((\n",
    "                               self.board.reshape(self.grid_size, self.grid_size,1),\n",
    "                        self.position.reshape(self.grid_size, self.grid_size,1)),axis=2)\n",
    "\n",
    "        state = state[self.x - 2:self.x + 3, self.y - 2:self.y + 3, :]\n",
    "        return state"
   ]
  },
  {
   "cell_type": "markdown",
   "metadata": {},
   "source": [
    "The following elements are important because they correspond to the hyper parameters for this project:"
   ]
  },
  {
   "cell_type": "markdown",
   "metadata": {},
   "source": [
    "# PARAMS"
   ]
  },
  {
   "cell_type": "code",
   "execution_count": 5,
   "metadata": {},
   "outputs": [],
   "source": [
    "# parameters\n",
    "size = 13\n",
    "T=200\n",
    "temperature=0.3\n",
    "epochs_train=101 # set small when debugging\n",
    "epochs_test=101 # set small when debugging"
   ]
  },
  {
   "cell_type": "code",
   "execution_count": 6,
   "metadata": {},
   "outputs": [],
   "source": [
    "# display videos\n",
    "def display_videos(name):\n",
    "    video = io.open(name, 'r+b').read()\n",
    "    encoded = base64.b64encode(video)\n",
    "    return '''<video alt=\"test\" controls>\n",
    "                <source src=\"data:video/mp4;base64,{0}\" type=\"video/mp4\" />\n",
    "             </video>'''.format(encoded.decode('ascii'))"
   ]
  },
  {
   "cell_type": "markdown",
   "metadata": {},
   "source": [
    "__Question 2__ Explain the use of the arrays ```position``` and ```board```."
   ]
  },
  {
   "cell_type": "markdown",
   "metadata": {},
   "source": [
    "> The `position` array determines the current position of the mouse in the game.\n",
    ">\n",
    "> The `board` array determines the state of the game, where are the bonus and malus left."
   ]
  },
  {
   "cell_type": "markdown",
   "metadata": {},
   "source": [
    "## Random Agent"
   ]
  },
  {
   "cell_type": "markdown",
   "metadata": {},
   "source": [
    "***\n",
    "__Question 3__ Implement a random Agent (only ```learned_act``` needs to be implemented):"
   ]
  },
  {
   "cell_type": "code",
   "execution_count": 7,
   "metadata": {},
   "outputs": [],
   "source": [
    "class RandomAgent(Agent):\n",
    "    def __init__(self):\n",
    "        super(RandomAgent, self).__init__()\n",
    "        pass\n",
    "\n",
    "    def learned_act(self, s):\n",
    "        return np.random.randint(0, self.n_action, size=1)[0]"
   ]
  },
  {
   "cell_type": "markdown",
   "metadata": {},
   "source": [
    "***\n",
    "***\n",
    "__Question 4__ Visualize the game moves. You need to fill in the following function for the evaluation:"
   ]
  },
  {
   "cell_type": "code",
   "execution_count": 8,
   "metadata": {},
   "outputs": [],
   "source": [
    "def test(agent,env,epochs,prefix=''):\n",
    "    # Number of won games\n",
    "    score = 0\n",
    "    loss = 0\n",
    "        \n",
    "    for e in range(epochs):\n",
    "        \n",
    "        # At each epoch, we restart to a fresh game and get the initial state\n",
    "        state = env.reset()\n",
    "        # This assumes that the games will end\n",
    "        game_over = False\n",
    "\n",
    "        win = 0\n",
    "        lose = 0\n",
    "\n",
    "        while not game_over:\n",
    "            # The agent performs an action\n",
    "            action = agent.act(state)\n",
    "\n",
    "            # Apply an action to the environment, get the next state, the reward\n",
    "            # and if the games end\n",
    "            prev_state = state\n",
    "            state, reward, game_over = env.act(action)\n",
    "\n",
    "            # Update the counters\n",
    "            if reward > 0:\n",
    "                win = win + reward\n",
    "            if reward < 0:\n",
    "                lose = lose -reward\n",
    "\n",
    "        # Save as a mp4\n",
    "        env.draw(prefix+str(e))\n",
    "\n",
    "        # Update stats\n",
    "        score += win - lose\n",
    "\n",
    "        print(\"Win/lose count {}/{}. Average score ({})\"\n",
    "          .format(win, lose, score/(1+e)))\n",
    "    print('Final score: '+str(score/epochs))"
   ]
  },
  {
   "cell_type": "code",
   "execution_count": 9,
   "metadata": {
    "scrolled": true
   },
   "outputs": [
    {
     "name": "stdout",
     "output_type": "stream",
     "text": [
      "Win/lose count 7.0/19.0. Average score (-12.0)\n",
      "Win/lose count 8.5/10.0. Average score (-6.75)\n",
      "Win/lose count 13.0/8.0. Average score (-2.8333333333333335)\n",
      "Win/lose count 7.0/11.0. Average score (-3.125)\n",
      "Win/lose count 10.5/13.0. Average score (-3.0)\n",
      "Win/lose count 9.5/18.0. Average score (-3.9166666666666665)\n",
      "Win/lose count 9.5/11.0. Average score (-3.5714285714285716)\n",
      "Win/lose count 9.0/8.0. Average score (-3.0)\n",
      "Win/lose count 8.0/17.0. Average score (-3.6666666666666665)\n",
      "Win/lose count 9.0/14.0. Average score (-3.8)\n",
      "Win/lose count 12.0/15.0. Average score (-3.727272727272727)\n",
      "Win/lose count 12.0/12.0. Average score (-3.4166666666666665)\n",
      "Win/lose count 15.5/9.0. Average score (-2.6538461538461537)\n",
      "Win/lose count 11.5/14.0. Average score (-2.642857142857143)\n",
      "Win/lose count 10.0/11.0. Average score (-2.533333333333333)\n",
      "Win/lose count 7.0/14.0. Average score (-2.8125)\n",
      "Win/lose count 10.0/12.0. Average score (-2.764705882352941)\n",
      "Win/lose count 9.5/15.0. Average score (-2.9166666666666665)\n",
      "Win/lose count 13.5/16.0. Average score (-2.8947368421052633)\n",
      "Win/lose count 14.0/12.0. Average score (-2.65)\n",
      "Win/lose count 6.5/15.0. Average score (-2.9285714285714284)\n",
      "Win/lose count 14.0/13.0. Average score (-2.75)\n",
      "Win/lose count 8.5/14.0. Average score (-2.869565217391304)\n",
      "Win/lose count 11.5/17.0. Average score (-2.9791666666666665)\n",
      "Win/lose count 8.0/12.0. Average score (-3.02)\n",
      "Win/lose count 8.0/14.0. Average score (-3.1346153846153846)\n",
      "Win/lose count 15.0/15.0. Average score (-3.0185185185185186)\n",
      "Win/lose count 12.5/11.0. Average score (-2.857142857142857)\n",
      "Win/lose count 10.5/19.0. Average score (-3.0517241379310347)\n",
      "Win/lose count 13.5/16.0. Average score (-3.033333333333333)\n",
      "Win/lose count 7.5/12.0. Average score (-3.0806451612903225)\n",
      "Win/lose count 11.0/5.0. Average score (-2.796875)\n",
      "Win/lose count 15.5/15.0. Average score (-2.696969696969697)\n",
      "Win/lose count 11.5/15.0. Average score (-2.7205882352941178)\n",
      "Win/lose count 5.0/8.0. Average score (-2.7285714285714286)\n",
      "Win/lose count 12.0/17.0. Average score (-2.7916666666666665)\n",
      "Win/lose count 7.0/12.0. Average score (-2.8513513513513513)\n",
      "Win/lose count 10.5/19.0. Average score (-3.0)\n",
      "Win/lose count 11.0/9.0. Average score (-2.871794871794872)\n",
      "Win/lose count 9.0/10.0. Average score (-2.825)\n",
      "Win/lose count 12.0/19.0. Average score (-2.926829268292683)\n",
      "Win/lose count 11.0/15.0. Average score (-2.9523809523809526)\n",
      "Win/lose count 7.0/16.0. Average score (-3.0930232558139537)\n",
      "Win/lose count 8.5/10.0. Average score (-3.0568181818181817)\n",
      "Win/lose count 12.5/7.0. Average score (-2.8666666666666667)\n",
      "Win/lose count 10.0/12.0. Average score (-2.847826086956522)\n",
      "Win/lose count 10.0/17.0. Average score (-2.9361702127659575)\n",
      "Win/lose count 9.0/18.0. Average score (-3.0625)\n",
      "Win/lose count 8.0/13.0. Average score (-3.1020408163265305)\n",
      "Win/lose count 11.5/14.0. Average score (-3.09)\n",
      "Win/lose count 6.5/8.0. Average score (-3.0588235294117645)\n",
      "Final score: -3.0588235294117645\n"
     ]
    },
    {
     "data": {
      "text/html": [
       "<video alt=\"test\" controls>\n",
       "                <source src=\"data:video/mp4;base64,AAAAIGZ0eXBpc29tAAACAGlzb21pc28yYXZjMW1wNDEAAAAIZnJlZQAAGIltZGF0AAACrQYF//+p3EXpvebZSLeWLNgg2SPu73gyNjQgLSBjb3JlIDE0OCByMjY0MyA1YzY1NzA0IC0gSC4yNjQvTVBFRy00IEFWQyBjb2RlYyAtIENvcHlsZWZ0IDIwMDMtMjAxNSAtIGh0dHA6Ly93d3cudmlkZW9sYW4ub3JnL3gyNjQuaHRtbCAtIG9wdGlvbnM6IGNhYmFjPTEgcmVmPTMgZGVibG9jaz0xOjA6MCBhbmFseXNlPTB4MzoweDExMyBtZT1oZXggc3VibWU9NyBwc3k9MSBwc3lfcmQ9MS4wMDowLjAwIG1peGVkX3JlZj0xIG1lX3JhbmdlPTE2IGNocm9tYV9tZT0xIHRyZWxsaXM9MSA4eDhkY3Q9MSBjcW09MCBkZWFkem9uZT0yMSwxMSBmYXN0X3Bza2lwPTEgY2hyb21hX3FwX29mZnNldD00IHRocmVhZHM9OCBsb29rYWhlYWRfdGhyZWFkcz0xIHNsaWNlZF90aHJlYWRzPTAgbnI9MCBkZWNpbWF0ZT0xIGludGVybGFjZWQ9MCBibHVyYXlfY29tcGF0PTAgY29uc3RyYWluZWRfaW50cmE9MCBiZnJhbWVzPTMgYl9weXJhbWlkPTIgYl9hZGFwdD0xIGJfYmlhcz0wIGRpcmVjdD0xIHdlaWdodGI9MSBvcGVuX2dvcD0wIHdlaWdodHA9MiBrZXlpbnQ9MjUwIGtleWludF9taW49MjUgc2NlbmVjdXQ9NDAgaW50cmFfcmVmcmVzaD0wIHJjX2xvb2thaGVhZD00MCByYz1jcmYgbWJ0cmVlPTEgY3JmPTIzLjAgcWNvbXA9MC42MCBxcG1pbj0wIHFwbWF4PTY5IHFwc3RlcD00IGlwX3JhdGlvPTEuNDAgYXE9MToxLjAwAIAAAALAZYiEADf//vaH+BTZWBO6f/0/4LrOnzl/nbABNNgBSG5gp/rE//5Ff+wSMBhF298ClwC18Cmkzfm3aTSqI8Npp/WX6qzHL8sxS5cCzClKbSxgKPkH5P1oGapRBtaiSR6RHkvBy2PL4Wf9cuAxnEg5QNJuOCVc2p4tVxP9hTq3jfkJMMev7jiKeuBXT9BxYkP/xHlh6d5XdTv3HguXcZ2G77XaA0RdJnkjrz17UlYK+z8eRnbxcm9WScihBGmWmClU5DIYyiP2fShRVDaR30oIYu0fao1ltn86VIiLkRx0RcTDfE/hr19k1JR41Og1XpOal5oB8UpWDLoFeFnx40gRNNHXGNhnlxLVJB6EtMhYlIaY1y+gmkYIyn2VTBOmC4LGAm7svS8lWAhE9fKwXo3MF5cdPmRmFtM9CyYt+9wDJcTNCSSguFRwJcCMW5C0dbsQyD/Yv6MZJ9gOxOTTc+1gcKYKQ8yh3Z4x+ywMlvrGdhEnau5Rt4ryuGvM8Jd8ZwKPYs1Oj8Wno9fRMn5KTZT7x4N/HcMoZlypkJhTMI3xQxTBQqaW7i2jj0TkXpPgEXUO7AM4Lw4kUTfJoL8FWY6sz0LtQCtIUm1sd0e+HdrtjuvAhAqB0/ifBhfA6us0jP1OE097s+uMWFWUeHYcftKayUGuWWaWbNsNgSBbGyg8hlIKwbA+JB/5K22ItrBA0ZK1Xp+EFhUkxL2VxRF6GvQSW2EU+fleESVBLj6IOV1eBPHQ81X2KUhlCb8xqr5XVgXgcJiT0TwxzhGP+ijXtq3nzIBB1+90MbuQRmFipo/0CHs8zzB/XaYCzTVYDAdhI9BnazFpjE4gGnn7wh8Z0IYRF0SliKiBKivgiNXjAsaRH0toW8X7wNBIR2SLSL41gzBkExhKXTU8sVKwRX1IWxqzQuLdt2rHBXymD8ywLkgokIEAAAAZQZokbEM//p4QABdfid8dd5g3C71xH1mlcAAAAA9BnkJ4hf8AA4n36395u0EAAAAPAZ5hdEK/AATV2UKTbJadAAAAEAGeY2pCvwAEt6dd1fjvKKEAAAAZQZplSahBaJlMCG///qeEAAO57B69mfBGjwAAABlBmoZJ4QpSZTAhv/6nhAAFq9E/1W+Y/InBAAAAGUGap0nhDomUwId//qmWAALf8ktLOjqee6EAAAASQZrLSeEPJlMCHf/+qZYAAJWAAAAAFEGe6UURPC//AANDxF6yge+iylg4AAAAEAGfCHRCvwAEddWjJLf7Z4EAAAAPAZ8KakK/AAR3YjyYHr7PAAAAF0GbD0moQWiZTAh3//6plgAByfhR925gAAAAEUGfLUURLC//AANNErb+SduBAAAADwGfTHRCvwAEddlCk2yWtwAAAA8Bn05qQr8ABHdiPJgevs8AAAAdQZtTSahBbJlMCG///qeEAAWP40/7XvlmKDEGu3wAAAAQQZ9xRRUsL/8AA0ytMgoLIAAAAA8Bn5B0Qr8ABHbRi4D89cEAAAAPAZ+SakK/AAR2TKZtmR0uAAAAF0Gbl0moQWyZTAhv//6nhAAIKgCzbdHwAAAAJUGftUUVLC//AATrW/HwlNz//EHQZLP/8NPyz//EDHbdfCh0C4EAAAAQAZ/UdEK/AAbCSvfX6UJqYAAAAA8Bn9ZqQr8ABsCWlSKBLGcAAAAZQZvYSahBbJlMCG///qeEAAVHmVxTIoT5wQAAABtBm/xJ4QpSZTAhn/6eEAAT3vabt5+IfzcPMC8AAAARQZ4aRTRML/8AAxCrxvOTP2EAAAAPAZ45dEK/AALFGEBkl6uAAAAAEAGeO2pCvwAEF2iE3GfXsskAAAAZQZo9SahBaJlMCG///qeEAAUj3U4/w+rckwAAABlBml5J4QpSZTAhv/6nhAAHlOM/1W+Y/HZgAAAAEUGaYknhDomUwIb//qeEAAEnAAAADEGegEURPC//AACygQAAABABnr90Qr8ABnHk3R23w4OAAAAADwGeoWpCvwAGcBY0SueYywAAABlBmqNJqEFomUwIb//+p4QAB5/YPXsz4Iv3AAAAGUGaxEnhClJlMCHf/qmWAAXb5BmgD0l9mJEAAAAZQZroSeEOiZTAh3/+qZYABePkl+ZtKBHTgQAAABBBnwZFETwv/wAG6EcZ3NChAAAAEAGfJXRCvwAJruO8rZQ9qYEAAAAPAZ8nakK/AAZKxA8mCVSAAAAAE0GbLEmoQWiZTAh3//6plgAAlYAAAAAMQZ9KRREsL/8AALKBAAAAEAGfaXRCvwAGceTdHbfDg4AAAAAQAZ9rakK/AAY3OTvZ4+5ygAAAABNBm3BJqEFsmUwId//+qZYAAJWBAAAAFEGfjkUVLC//AASKGD11MQ9vjLBtAAAAEAGfrXRCvwAGSAUzyvyU6PEAAAAQAZ+vakK/AAZwFjXvNK0oQAAAACdBm7RJqEFsmUwId//+qZYABePgVg5llabrvApkfWeBQJ4P1sv/d6UAAAAQQZ/SRRUsL/8ABulXjewZeQAAAA8Bn/F0Qr8ABnHk3nnGZYAAAAAQAZ/zakK/AAlu0Qm4z69X2AAAAEZBm/hJqEFsmUwId//+qZYABip6Bx//4hHsUtXeIEYJTokiHsPf//EASmrnOwPZcIP///iDvy9XbeeCQiwHv/Pej0OX72ddAAAAEkGeFkUVLC//AAdBPV66OMcTaAAAABABnjV0Qr8ACWu1J5X5KcexAAAAEAGeN2pCvwAJ9Y8tw2bVtYEAAAAaQZo8SahBbJlMCG///qeEAAw9In+zn4ncqYAAAAASQZ5aRRUsL/8ABz//Yno4stPRAAAADwGeeXRCvwAJ8nKFJtkr0wAAABABnntqQr8ACavNEyJpWhpBAAAAGkGafUmoQWyZTAh3//6plgAJAiw3RiEc+x3hAAAAGkGagUnhClJlMCG//qeEABHum3HIytrPUMPAAAAAFUGev0U0TC//ABDceOmcV1MvP+N2eAAAABABnt50Qr8AF0y1QOnah1CBAAAAEAGewGpCvwAXRtyKvAFASYAAAAAZQZrFSahBaJlMCG///qeEABHVtLteOn2ulwAAABBBnuNFESwv/wAKyyxUIL3gAAAAEAGfAnRCvwAO3YrFsbKlOnEAAAAPAZ8EakK/AA7XOGwOU+eBAAAAGUGbBkmoQWyZTAhv//6nhAASUfMeRif5btUAAAAZQZsnSeEKUmUwId/+qZYACYFHOtD1ffJRwQAAAClBm0tJ4Q6JlMCG//6nhAAT/3jLnMsrnvH4FKls/ApnX4jHCLII/2f9rAAAABBBn2lFETwv/wAL8qTO6HG4AAAADwGfiHRCvwAPi2Brr4vggQAAABABn4pqQr8AD+MweS5nya2AAAAAGkGbjEmoQWiZTAh3//6plgAKF8ktLOjqeU5gAAAAGkGbsEnhClJlMCHf/qmWAAnP0c/LtJZhS6GDAAAAEEGfzkU0TC//AAujLBPjrMEAAAAQAZ/tdEK/AA+HDAZJb/YCQQAAAA8Bn+9qQr8ACfcoHkwSL4AAAAAeQZv0SahBaJlMCHf//qmWAAYz21A3P6bKtQshS6M8AAAAEEGeEkURLC//AAc/+HrrWsEAAAAQAZ4xdEK/AAnya0ZJb/YvgAAAAA8BnjNqQr8ABkrFgXX+OkAAAAAmQZo4SahBbJlMCHf//qmWAA6nv1cyyxhVXgUzXFTwKJPXS+w47EEAAAASQZ5WRRUsL/8AEVz9BzuAMTOcAAAAEAGedXRCvwAJ9lqgdO1EJoEAAAAQAZ53akK/ABfnajlf24gaQQAAAClBmnxJqEFsmUwIb//+p4QALH7xlzmWVz3j8ClS2fgUzsDG3WMFT/ax5AAAABBBnppFFSwv/wAaZV43sEz5AAAADwGeuXRCvwAX5JqerO/1wAAAABABnrtqQr8AI7tEJuM+vT9pAAAAHEGavUmoQWyZTAh3//6plgAWb5SQOH+d0hTCL/EAAAAaQZrBSeEKUmUwId/+qZYAFuBHNbza+0vuiLAAAAAQQZ7/RTRML/8AGwVd3+b8MAAAAA8Bnx50Qr8AF0jGLgPzACEAAAAPAZ8AakK/ACS7PLcNm1QLAAAAF0GbBUmoQWiZTAhv//6nhAAuvxp/E3pBAAAADkGfI0URLC//ABulW3gQAAAAEAGfQnRCvwAkt0A6FpYcXY0AAAAQAZ9EakK/ACW5o3nqXgVjcQAAABpBm0ZJqEFsmUwId//+qZYAFv+SWlnR1PJXoQAAABtBm2pJ4QpSZTAh3/6plgAjC1Iy7DjaQPPxPzEAAAAUQZ+IRTRML/8AKhPl8bvosYnwupcAAAAQAZ+ndEK/ADdWVdyGypSWkAAAABABn6lqQr8AOKzB5LmfJSKBAAAAE0GbrkmoQWiZTAh3//6plgAAlYAAAAAMQZ/MRREsL/8AALKAAAAAEAGf63RCvwA4ChvZdV/AwMEAAAAPAZ/takK/ADgKG7DPVntlAAAALkGb8kmoQWyZTAh3//6plgA1VxL/4hBt/+EqYlMX/+EndXxf/4wnvpyPhy/zf28AAAAQQZ4QRRUsL/8APinUb2CPdAAAAA8Bni90Qr8AOKX4uA/LhUAAAAAQAZ4xakK/AFiUaJkTSs3dwQAAABlBmjZJqEFsmUwId//+qZYANV8KPvjimRM7AAAAEEGeVEUVLC//AD4fxV5FHKAAAAAQAZ5zdEK/AFitHeVsoek9wQAAAA8BnnVqQr8AOLYEuV/gEcAAAAAgQZp6SahBbJlMCHf//qmWACQ/Hn5dLy1FAtFMRD6JqaEAAAARQZ6YRRUsL/8AKyxtuHqQgDkAAAAQAZ63dEK/ADoNga2mUPTAwAAAAA8BnrlqQr8AJcGsC6/wJsEAAAAcQZq+SahBbJlMCG///qeEAC6+6n7mRhbMUI5iBAAAABBBntxFFSwv/wAboRu9wGtBAAAAEAGe+3RCvwAlrq0ZJb/XR4EAAAAPAZ79akK/ABfrEDyYI22AAAAAKkGa4kmoQWyZTAhv//6nhAArXup94Uc8yyue6fgUqWj8CmdgZY1K/XF7gAAAABZBnwBFFSwv/wAaZJL8zbDVDKQB3t7RAAAAEAGfP3RCvwAjvqJE+LMUftAAAAAPAZ8hakK/ACOyZTNsyNhvAAAAGUGbI0moQWyZTAhv//6nhAAqPxp0FazKa/8AAAAZQZtESeEKUmUwId/+qZYAHzTISbhwUfNW0QAAACdBm2hJ4Q6JlMCHf/6plgAgPx5+bh/+tX4mmD4hFnr//CVLHn/+hKUAAAAVQZ+GRRE8L/8AJrPWqnRyuRZFKY+zAAAAEAGfpXRCvwA0zybytlD0ysEAAAAPAZ+nakK/ACGyuRV4AoATAAAAGUGbrEmoQWiZTAh3//6plgAVMJ0ci55nLUIAAAAQQZ/KRREsL/8AGSVc9FDx2QAAAA8Bn+l0Qr8AFi6AdCcmFWAAAAAQAZ/rakK/ACG7PHK/txABwAAAABxBm/BJqEFsmUwId//+qZYAFU55kRjCoFopzMtNAAAAEEGeDkUVLC//ABkhHGdyr6EAAAAQAZ4tdEK/ACK7jvK2UPUBgQAAAA8Bni9qQr8AIra13fd7/sAAAAAjQZo0SahBbJlMCHf//qmWAA6msmD4hBt/+EqoZv//3Uu2yaYAAAAVQZ5SRRUsL/8AGl9csZtxOAqkeGFxAAAAEAGecXRCvwAjvmqB07UOFIAAAAAQAZ5zakK/ACOyyGH0BIOV6AAAABNBmnhJqEFsmUwId//+qZYAAJWBAAAAG0GelkUVLC//ABFfQQ2Hk/4hC7//EIL4n/+TIQAAABABnrV0Qr8AF+AUzyvyU3TxAAAAEAGet2pCvwAX524TcZ9eonkAAAAcQZq8SahBbJlMCHf//qmWABZNLOUGaBT6MfplegAAABBBntpFFSwv/wAaZV43sEz5AAAADwGe+XRCvwAYh5N55xdPgAAAABABnvtqQr8AJK80TImlZy9BAAAAHEGa4EmoQWyZTAh3//6plgAhBR1CDNAp9GP0yJ0AAAAQQZ8eRRUsL/8AJ8yxUIKa4AAAABABnz10Qr8ANhJoRPizFHboAAAADwGfP2pCvwA2FiB5MEYXgQAAACJBmyRJqEFsmUwId//+qZYAfX2G+ZZZ8+2/ZBmfBneDvF5gAAAAFUGfQkUVLC//AJbn3TWbzp2mzQAClwAAAA8Bn2F0Qr8AVnMncGyXjcsAAAAQAZ9jakK/AM27Ucr+3D6LwQAAAB5Bm2hJqEFsmUwId//+qZYAfX2l+2GerrWcoNxAouEAAAAQQZ+GRRUsL/8Als9a4uZLYQAAABABn6V0Qr8AzYAAZJb/W2VBAAAADwGfp2pCvwCCvNEFqPLqXgAAACBBm6xJqEFsmUwId//+qZYAULnmPbeHw6gWio48/pQHjAAAABJBn8pFFSwv/wBflScINPbsFlEAAAAPAZ/pdEK/AH8L0BklyraAAAAAEAGf62pCvwB/AiZpvpIOL0gAAAAZQZvwSahBbJlMCHf//qmWAFBCdI/vq+7StwAAABBBng5FFSwv/wBflXjewRoJAAAADwGeLXRCvwBWYwgMkuWHgQAAABABni9qQr8AfxnzG6HJBxekAAAAI0GaNEmoQWyZTAh3//6plgC9ZocviEG3/4Sqhm//9BmtOHltAAAAFUGeUkUVLC//ANeq8Y3uVyIveeAfaQAAABABnnF0Qr8Aw8mhE+LMUbBwAAAAEAGec2pCvwEm2iE3GfXpqygAAAAfQZp4SahBbJlMCHf//qmWAL16Mfn7Dlw8Cm0t2mUVQQAAABJBnpZFFSwv/wDXiOOmBJ93thwAAAAQAZ61dEK/ASZ2pPK/JTZWUQAAABABnrdqQr8Aw5LadeAJ/PiBAAAAHEGavEmoQWyZTAh3//6plgBQNLMWmaA7vox64B4AAAAVQZ7aRRUsL/8AX5V3e2lII6drFdLNAAAAEAGe+XRCvwBULR3lbKHpRYAAAAAQAZ77akK/AH8Z4F1/bh9boQAAAB1BmuBJqEFsmUwIb//+p4QAn3TbjYYTbDiyXovIMQAAABVBnx5FFSwv/wBfhHG6p0uRFp+Ve9oAAAAQAZ89dEK/AH74szyvyU2cqAAAABABnz9qQr8AVltyKvAE/vCBAAAAHEGbJEmoQWyZTAhn//6eEACtcyupRLznTYsg2kAAAAAQQZ9CRRUsL/8AGmEbvcBwQQAAAA8Bn2F0Qr8AI67KFJtkq3cAAAAPAZ9jakK/ABa+VgXX+C/BAAAAGUGbZUmoQWyZTAhn//6eEABseEulkMfmS5kAAAAYQZuGSeEKUmUwIZ/+nhAARbpt0shj8ypZAAAAGkGbqUvhCEOiRGCCgH8gH9h4AhX//jhAABFxAAAAJ0GfyEIV/wKvY+1BxN2qw0km5aqGByy1u80qIKFLyX7WFOVoAHrONwAAABABn+dpEK8ACWuyhSbW9fKAAAAMUW1vb3YAAABsbXZoZAAAAAAAAAAAAAAAAAAAA+gAAB+QAAEAAAEAAAAAAAAAAAAAAAABAAAAAAAAAAAAAAAAAAAAAQAAAAAAAAAAAAAAAAAAQAAAAAAAAAAAAAAAAAAAAAAAAAAAAAAAAAAAAAAAAAIAAAt7dHJhawAAAFx0a2hkAAAAAwAAAAAAAAAAAAAAAQAAAAAAAB+QAAAAAAAAAAAAAAAAAAAAAAABAAAAAAAAAAAAAAAAAAAAAQAAAAAAAAAAAAAAAAAAQAAAAAEQAAABEAAAAAAAJGVkdHMAAAAcZWxzdAAAAAAAAAABAAAfkAAABAAAAQAAAAAK821kaWEAAAAgbWRoZAAAAAAAAAAAAAAAAAAAMgAAAZQAVcQAAAAAAC1oZGxyAAAAAAAAAAB2aWRlAAAAAAAAAAAAAAAAVmlkZW9IYW5kbGVyAAAACp5taW5mAAAAFHZtaGQAAAABAAAAAAAAAAAAAAAkZGluZgAAABxkcmVmAAAAAAAAAAEAAAAMdXJsIAAAAAEAAApec3RibAAAAJZzdHNkAAAAAAAAAAEAAACGYXZjMQAAAAAAAAABAAAAAAAAAAAAAAAAAAAAAAEQARAASAAAAEgAAAAAAAAAAQAAAAAAAAAAAAAAAAAAAAAAAAAAAAAAAAAAAAAAAAAAABj//wAAADBhdmNDAfQADf/hABdn9AANkZsoIhHQgAAAAwCAAAAZB4oUywEABmjr48RIRAAAABhzdHRzAAAAAAAAAAEAAADKAAACAAAAABRzdHNzAAAAAAAAAAEAAAABAAAGKGN0dHMAAAAAAAAAwwAAAAEAAAQAAAAAAQAACgAAAAABAAAEAAAAAAEAAAAAAAAAAQAAAgAAAAADAAAEAAAAAAEAAAoAAAAAAQAABAAAAAABAAAAAAAAAAEAAAIAAAAAAQAACgAAAAABAAAEAAAAAAEAAAAAAAAAAQAAAgAAAAABAAAKAAAAAAEAAAQAAAAAAQAAAAAAAAABAAACAAAAAAEAAAoAAAAAAQAABAAAAAABAAAAAAAAAAEAAAIAAAAAAQAABAAAAAABAAAKAAAAAAEAAAQAAAAAAQAAAAAAAAABAAACAAAAAAIAAAQAAAAAAQAACgAAAAABAAAEAAAAAAEAAAAAAAAAAQAAAgAAAAACAAAEAAAAAAEAAAoAAAAAAQAABAAAAAABAAAAAAAAAAEAAAIAAAAAAQAACgAAAAABAAAEAAAAAAEAAAAAAAAAAQAAAgAAAAABAAAKAAAAAAEAAAQAAAAAAQAAAAAAAAABAAACAAAAAAEAAAoAAAAAAQAABAAAAAABAAAAAAAAAAEAAAIAAAAAAQAACgAAAAABAAAEAAAAAAEAAAAAAAAAAQAAAgAAAAABAAAKAAAAAAEAAAQAAAAAAQAAAAAAAAABAAACAAAAAAEAAAQAAAAAAQAACgAAAAABAAAEAAAAAAEAAAAAAAAAAQAAAgAAAAABAAAKAAAAAAEAAAQAAAAAAQAAAAAAAAABAAACAAAAAAIAAAQAAAAAAQAACgAAAAABAAAEAAAAAAEAAAAAAAAAAQAAAgAAAAABAAAEAAAAAAEAAAoAAAAAAQAABAAAAAABAAAAAAAAAAEAAAIAAAAAAQAACgAAAAABAAAEAAAAAAEAAAAAAAAAAQAAAgAAAAABAAAKAAAAAAEAAAQAAAAAAQAAAAAAAAABAAACAAAAAAEAAAoAAAAAAQAABAAAAAABAAAAAAAAAAEAAAIAAAAAAQAABAAAAAABAAAKAAAAAAEAAAQAAAAAAQAAAAAAAAABAAACAAAAAAEAAAoAAAAAAQAABAAAAAABAAAAAAAAAAEAAAIAAAAAAQAABAAAAAABAAAKAAAAAAEAAAQAAAAAAQAAAAAAAAABAAACAAAAAAEAAAoAAAAAAQAABAAAAAABAAAAAAAAAAEAAAIAAAAAAQAACgAAAAABAAAEAAAAAAEAAAAAAAAAAQAAAgAAAAABAAAKAAAAAAEAAAQAAAAAAQAAAAAAAAABAAACAAAAAAEAAAoAAAAAAQAABAAAAAABAAAAAAAAAAEAAAIAAAAAAQAACgAAAAABAAAEAAAAAAEAAAAAAAAAAQAAAgAAAAABAAAKAAAAAAEAAAQAAAAAAQAAAAAAAAABAAACAAAAAAIAAAQAAAAAAQAACgAAAAABAAAEAAAAAAEAAAAAAAAAAQAAAgAAAAABAAAKAAAAAAEAAAQAAAAAAQAAAAAAAAABAAACAAAAAAEAAAoAAAAAAQAABAAAAAABAAAAAAAAAAEAAAIAAAAAAQAACgAAAAABAAAEAAAAAAEAAAAAAAAAAQAAAgAAAAABAAAKAAAAAAEAAAQAAAAAAQAAAAAAAAABAAACAAAAAAEAAAoAAAAAAQAABAAAAAABAAAAAAAAAAEAAAIAAAAAAQAACgAAAAABAAAEAAAAAAEAAAAAAAAAAQAAAgAAAAABAAAKAAAAAAEAAAQAAAAAAQAAAAAAAAABAAACAAAAAAEAAAoAAAAAAQAABAAAAAABAAAAAAAAAAEAAAIAAAAAAQAACgAAAAABAAAEAAAAAAEAAAAAAAAAAQAAAgAAAAABAAAKAAAAAAEAAAQAAAAAAQAAAAAAAAABAAACAAAAAAEAAAoAAAAAAQAABAAAAAABAAAAAAAAAAEAAAIAAAAAAQAACgAAAAABAAAEAAAAAAEAAAAAAAAAAQAAAgAAAAABAAAKAAAAAAEAAAQAAAAAAQAAAAAAAAABAAACAAAAAAEAAAoAAAAAAQAABAAAAAABAAAAAAAAAAEAAAIAAAAAAQAACgAAAAABAAAEAAAAAAEAAAAAAAAAAQAAAgAAAAACAAAEAAAAAAEAAAgAAAAAAQAABAAAAAABAAAAAAAAABxzdHNjAAAAAAAAAAEAAAABAAAAygAAAAEAAAM8c3RzegAAAAAAAAAAAAAAygAABXUAAAAdAAAAEwAAABMAAAAUAAAAHQAAAB0AAAAdAAAAFgAAABgAAAAUAAAAEwAAABsAAAAVAAAAEwAAABMAAAAhAAAAFAAAABMAAAATAAAAGwAAACkAAAAUAAAAEwAAAB0AAAAfAAAAFQAAABMAAAAUAAAAHQAAAB0AAAAVAAAAEAAAABQAAAATAAAAHQAAAB0AAAAdAAAAFAAAABQAAAATAAAAFwAAABAAAAAUAAAAFAAAABcAAAAYAAAAFAAAABQAAAArAAAAFAAAABMAAAAUAAAASgAAABYAAAAUAAAAFAAAAB4AAAAWAAAAEwAAABQAAAAeAAAAHgAAABkAAAAUAAAAFAAAAB0AAAAUAAAAFAAAABMAAAAdAAAAHQAAAC0AAAAUAAAAEwAAABQAAAAeAAAAHgAAABQAAAAUAAAAEwAAACIAAAAUAAAAFAAAABMAAAAqAAAAFgAAABQAAAAUAAAALQAAABQAAAATAAAAFAAAACAAAAAeAAAAFAAAABMAAAATAAAAGwAAABIAAAAUAAAAFAAAAB4AAAAfAAAAGAAAABQAAAAUAAAAFwAAABAAAAAUAAAAEwAAADIAAAAUAAAAEwAAABQAAAAdAAAAFAAAABQAAAATAAAAJAAAABUAAAAUAAAAEwAAACAAAAAUAAAAFAAAABMAAAAuAAAAGgAAABQAAAATAAAAHQAAAB0AAAArAAAAGQAAABQAAAATAAAAHQAAABQAAAATAAAAFAAAACAAAAAUAAAAFAAAABMAAAAnAAAAGQAAABQAAAAUAAAAFwAAAB8AAAAUAAAAFAAAACAAAAAUAAAAEwAAABQAAAAgAAAAFAAAABQAAAATAAAAJgAAABkAAAATAAAAFAAAACIAAAAUAAAAFAAAABMAAAAkAAAAFgAAABMAAAAUAAAAHQAAABQAAAATAAAAFAAAACcAAAAZAAAAFAAAABQAAAAjAAAAFgAAABQAAAAUAAAAIAAAABkAAAAUAAAAFAAAACEAAAAZAAAAFAAAABQAAAAgAAAAFAAAABMAAAATAAAAHQAAABwAAAAeAAAAKwAAABQAAAAUc3RjbwAAAAAAAAABAAAAMAAAAGJ1ZHRhAAAAWm1ldGEAAAAAAAAAIWhkbHIAAAAAAAAAAG1kaXJhcHBsAAAAAAAAAAAAAAAALWlsc3QAAAAlqXRvbwAAAB1kYXRhAAAAAQAAAABMYXZmNTYuNDAuMTAx\" type=\"video/mp4\" />\n",
       "             </video>"
      ],
      "text/plain": [
       "<IPython.core.display.HTML object>"
      ]
     },
     "execution_count": 9,
     "metadata": {},
     "output_type": "execute_result"
    }
   ],
   "source": [
    "# Initialize the game\n",
    "env = Environment(grid_size=size, max_time=T,temperature=temperature)\n",
    "\n",
    "# Initialize the agent!\n",
    "agent = RandomAgent()\n",
    "\n",
    "test(agent,env,epochs_test,prefix='random')\n",
    "HTML(display_videos('random0.mp4'))"
   ]
  },
  {
   "cell_type": "markdown",
   "metadata": {},
   "source": [
    "***\n",
    "## DQN"
   ]
  },
  {
   "cell_type": "markdown",
   "metadata": {},
   "source": [
    "Let us assume here that $T=\\infty$.\n",
    "\n",
    "***\n",
    "__Question 5__ Let $\\pi$ be a policy, show that:\n",
    "\n",
    "\\begin{equation*}\n",
    "Q^{\\pi}(s,a)=E_{(s',a')\\sim p(.|s,a)}[r(s,a)+\\gamma Q^{\\pi}(s',a')]\n",
    "\\end{equation*}\n",
    "\n",
    "Then, show that for the optimal policy $\\pi^*$ (we assume its existence), the following holds: \n",
    "\n",
    "\\begin{equation*}\n",
    "Q^{*}(s,a)=E_{s'\\sim \\pi^*(.|s,a)}[r(s,a)+\\gamma\\max_{a'}Q^{*}(s',a')].\n",
    "\\end{equation*}\n",
    "Finally, deduce that a plausible objective is:\n",
    "\n",
    "\\begin{equation*}\n",
    "\\mathcal{L}(\\theta)=E_{s' \\sim \\pi^*(.|s,a)}\\Vert r+\\gamma\\max\\max_{a'}Q(s',a',\\theta)-Q(s,a,\\theta)\\Vert^{2}.\n",
    "\\end{equation*}\n",
    "\n",
    "\n"
   ]
  },
  {
   "cell_type": "markdown",
   "metadata": {},
   "source": []
  },
  {
   "cell_type": "markdown",
   "metadata": {},
   "source": [
    "***\n",
    "The DQN-learning algorithm relies on these derivations to train the parameters $\\theta$ of a Deep Neural Network:\n",
    "\n",
    "1. At the state $s_t$, select the action $a_t$ with best reward using $Q_t$ and store the results;\n",
    "\n",
    "2. Obtain the new state $s_{t+1}$ from the environment $p$;\n",
    "\n",
    "3. Store $(s_t,a_t,s_{t+1})$;\n",
    "\n",
    "4. Obtain $Q_{t+1}$ by minimizing  $\\mathcal{L}$ from a recovered batch from the previously stored results.\n",
    "\n",
    "***\n",
    "__Question 6__ Implement the class ```Memory``` that stores moves (in a replay buffer) via ```remember``` and provides a ```random_access``` to these. Specify a maximum memory size to avoid side effects. You can for example use a ```list()``` and set by default ```max_memory=100```."
   ]
  },
  {
   "cell_type": "code",
   "execution_count": 10,
   "metadata": {},
   "outputs": [],
   "source": [
    "class Memory(object):\n",
    "    def __init__(self, max_memory=100):\n",
    "        self.max_memory = max_memory\n",
    "        self.memory = list()\n",
    "\n",
    "    def remember(self, m):\n",
    "        if len(self.memory) < self.max_memory:\n",
    "            self.memory.append(m)\n",
    "        else:\n",
    "            self.memory[:-1] = self.memory[1:]\n",
    "            self.memory[-1] = m\n",
    "\n",
    "    def random_access(self):\n",
    "        return self.memory[np.random.randint(len(self.memory))]"
   ]
  },
  {
   "cell_type": "markdown",
   "metadata": {},
   "source": [
    "***\n",
    "The pipeline we will use for training is given below:"
   ]
  },
  {
   "cell_type": "code",
   "execution_count": 11,
   "metadata": {},
   "outputs": [],
   "source": [
    "def train(agent,env,epoch,prefix=''):\n",
    "    # Number of won games\n",
    "    score = 0\n",
    "    loss = 0\n",
    "\n",
    "    for e in range(epoch):\n",
    "        # At each epoch, we restart to a fresh game and get the initial state\n",
    "        state = env.reset()\n",
    "        # This assumes that the games will terminate\n",
    "        game_over = False\n",
    "\n",
    "        win = 0\n",
    "        lose = 0\n",
    "\n",
    "        while not game_over:\n",
    "            # The agent performs an action\n",
    "            action = agent.act(state)\n",
    "\n",
    "            # Apply an action to the environment, get the next state, the reward\n",
    "            # and if the games end\n",
    "            prev_state = state\n",
    "            state, reward, game_over = env.act(action)\n",
    "\n",
    "            # Update the counters\n",
    "            if reward > 0:\n",
    "                win = win + reward\n",
    "            if reward < 0:\n",
    "                lose = lose -reward\n",
    "\n",
    "            # Apply the reinforcement strategy\n",
    "            loss = agent.reinforce(prev_state, state,  action, reward, game_over)\n",
    "\n",
    "        # Save as a mp4\n",
    "        if e % 10 == 0:\n",
    "            env.draw(prefix+str(e))\n",
    "\n",
    "        # Update stats\n",
    "        score += win-lose\n",
    "\n",
    "        print(\"Epoch {:03d}/{:03d} | Loss {:.4f} | Win/lose count {}/{} ({})\"\n",
    "              .format(e, epoch, loss, win, lose, win-lose))\n",
    "        agent.save(name_weights=prefix+'model.h5',name_model=prefix+'model.json')"
   ]
  },
  {
   "cell_type": "markdown",
   "metadata": {},
   "source": [
    "***\n",
    "__Question 7__ Implement the DQN training algorithm using a cascade of fully connected layers. You can use different learning rate, batch size or memory size parameters. In particular, the loss might oscillate while the player will start to win the games. You have to find a good criterium."
   ]
  },
  {
   "cell_type": "code",
   "execution_count": 14,
   "metadata": {},
   "outputs": [],
   "source": [
    "class DQN(Agent):\n",
    "    def __init__(self, grid_size,  epsilon = 0.1, memory_size=100, batch_size = 16,n_state=2):\n",
    "        super(DQN, self).__init__(epsilon = epsilon)\n",
    "\n",
    "        # Discount for Q learning\n",
    "        self.discount = 0.99\n",
    "        \n",
    "        self.grid_size = grid_size\n",
    "        \n",
    "        # number of state\n",
    "        self.n_state = n_state\n",
    "\n",
    "        # Memory\n",
    "        self.memory = Memory(memory_size)\n",
    "        \n",
    "        # Batch size when learning\n",
    "        self.batch_size = batch_size\n",
    "\n",
    "    def learned_act(self, s):\n",
    "        q = self.model.predict(s.reshape(-1, 5, 5, self.n_state)).reshape(-1, 1)\n",
    "        return np.argmax(q)\n",
    "\n",
    "    def reinforce(self, s_, n_s_, a_, r_, game_over_):\n",
    "        # Two steps: first memorize the states, second learn from the pool\n",
    "\n",
    "        self.memory.remember([s_, n_s_, a_, r_, game_over_])\n",
    "        \n",
    "        input_states = np.zeros((self.batch_size, 5, 5, self.n_state))\n",
    "        new_states = np.zeros((self.batch_size, 5, 5, self.n_state))\n",
    "        \n",
    "        batch = [self.memory.random_access() for i in range(self.batch_size)]\n",
    "               \n",
    "        for i, (state, new_state, _, _, _) in enumerate(batch):\n",
    "            input_states[i] = state\n",
    "            new_states[i] = new_state\n",
    "            \n",
    "        q = self.model.predict(input_states)\n",
    "        new_q = self.model.predict(new_states)\n",
    "        target_q = q.copy()\n",
    "            \n",
    "        for i, (_, _, action, reward, game_over) in enumerate(batch):\n",
    "            if game_over:\n",
    "                target_q[i, action] = reward\n",
    "            else:\n",
    "                target_q[i, action] = reward + self.discount * np.max(new_q[i])\n",
    "        # HINT: Clip the target to avoid exploiding gradients.. -- clipping is a bit tighter\n",
    "        target_q = np.clip(target_q, -3, 3)\n",
    "\n",
    "        l = self.model.train_on_batch(input_states, target_q)\n",
    "\n",
    "        return l\n",
    "\n",
    "    def save(self,name_weights='model.h5',name_model='model.json'):\n",
    "        self.model.save_weights(name_weights, overwrite=True)\n",
    "        with open(name_model, \"w\") as outfile:\n",
    "            json.dump(self.model.to_json(), outfile)\n",
    "            \n",
    "    def load(self,name_weights='model.h5',name_model='model.json'):\n",
    "        with open(name_model, \"r\") as jfile:\n",
    "            model = model_from_json(json.load(jfile))\n",
    "        model.load_weights(name_weights)\n",
    "        model.compile(\"sgd\", \"mse\")\n",
    "        self.model = model\n",
    "\n",
    "            \n",
    "class DQN_FC(DQN):\n",
    "    def __init__(self, *args, lr=0.1,**kwargs):\n",
    "        super(DQN_FC, self).__init__( *args,**kwargs)\n",
    "        \n",
    "        # NN Model\n",
    "        \n",
    "        ####### FILL IN\n",
    "        width_model = 32\n",
    "        \n",
    "        model = Sequential([\n",
    "            Flatten(input_shape=(5, 5, self.n_state)),\n",
    "            Dense(width_model, activation='relu'),\n",
    "            Dense(self.n_action),\n",
    "        ])\n",
    "                \n",
    "        model.compile(sgd(lr=lr, decay=1e-4, momentum=0.0), \"mse\")\n",
    "        self.model = model\n",
    "from keras.layers import Flatten, Input\n"
   ]
  },
  {
   "cell_type": "code",
   "execution_count": 15,
   "metadata": {
    "scrolled": true
   },
   "outputs": [
    {
     "name": "stdout",
     "output_type": "stream",
     "text": [
      "Epoch 000/301 | Loss 0.0073 | Win/lose count 5.0/9.0 (-4.0)\n",
      "Epoch 001/301 | Loss 0.0092 | Win/lose count 2.0/3.0 (-1.0)\n",
      "Epoch 002/301 | Loss 0.0050 | Win/lose count 2.5/5.0 (-2.5)\n",
      "Epoch 003/301 | Loss 0.0027 | Win/lose count 3.0/0 (3.0)\n",
      "Epoch 004/301 | Loss 0.0035 | Win/lose count 4.0/7.0 (-3.0)\n",
      "Epoch 005/301 | Loss 0.0046 | Win/lose count 7.5/6.0 (1.5)\n",
      "Epoch 006/301 | Loss 0.0136 | Win/lose count 1.5/2.0 (-0.5)\n",
      "Epoch 007/301 | Loss 0.0128 | Win/lose count 3.0/2.0 (1.0)\n",
      "Epoch 008/301 | Loss 0.0082 | Win/lose count 2.5/4.0 (-1.5)\n",
      "Epoch 009/301 | Loss 0.0205 | Win/lose count 3.5/3.0 (0.5)\n",
      "Epoch 010/301 | Loss 0.0052 | Win/lose count 3.0/0 (3.0)\n",
      "Epoch 011/301 | Loss 0.0020 | Win/lose count 1.0/4.0 (-3.0)\n",
      "Epoch 012/301 | Loss 0.0652 | Win/lose count 4.5/3.0 (1.5)\n",
      "Epoch 013/301 | Loss 0.0025 | Win/lose count 3.5/1.0 (2.5)\n",
      "Epoch 014/301 | Loss 0.0039 | Win/lose count 4.5/4.0 (0.5)\n",
      "Epoch 015/301 | Loss 0.0070 | Win/lose count 4.0/4.0 (0.0)\n",
      "Epoch 016/301 | Loss 0.0064 | Win/lose count 6.5/3.0 (3.5)\n",
      "Epoch 017/301 | Loss 0.0113 | Win/lose count 8.0/3.0 (5.0)\n",
      "Epoch 018/301 | Loss 0.0059 | Win/lose count 2.5/2.0 (0.5)\n",
      "Epoch 019/301 | Loss 0.0062 | Win/lose count 4.0/0 (4.0)\n",
      "Epoch 020/301 | Loss 0.0041 | Win/lose count 4.0/6.0 (-2.0)\n",
      "Epoch 021/301 | Loss 0.0075 | Win/lose count 4.5/5.0 (-0.5)\n",
      "Epoch 022/301 | Loss 0.0140 | Win/lose count 6.0/1.0 (5.0)\n",
      "Epoch 023/301 | Loss 0.0071 | Win/lose count 6.5/2.0 (4.5)\n",
      "Epoch 024/301 | Loss 0.0050 | Win/lose count 3.0/0 (3.0)\n",
      "Epoch 025/301 | Loss 0.0034 | Win/lose count 10.5/5.0 (5.5)\n",
      "Epoch 026/301 | Loss 0.0073 | Win/lose count 4.0/6.0 (-2.0)\n",
      "Epoch 027/301 | Loss 0.0089 | Win/lose count 5.0/2.0 (3.0)\n",
      "Epoch 028/301 | Loss 0.0521 | Win/lose count 8.5/4.0 (4.5)\n",
      "Epoch 029/301 | Loss 0.0055 | Win/lose count 1.5/1.0 (0.5)\n",
      "Epoch 030/301 | Loss 0.0080 | Win/lose count 10.0/2.0 (8.0)\n",
      "Epoch 031/301 | Loss 0.0053 | Win/lose count 3.5/2.0 (1.5)\n",
      "Epoch 032/301 | Loss 0.0316 | Win/lose count 10.0/1.0 (9.0)\n",
      "Epoch 033/301 | Loss 0.0578 | Win/lose count 7.5/3.0 (4.5)\n",
      "Epoch 034/301 | Loss 0.0020 | Win/lose count 2.0/1.0 (1.0)\n",
      "Epoch 035/301 | Loss 0.0047 | Win/lose count 9.5/3.0 (6.5)\n",
      "Epoch 036/301 | Loss 0.0036 | Win/lose count 11.0/2.0 (9.0)\n",
      "Epoch 037/301 | Loss 0.0055 | Win/lose count 7.0/0 (7.0)\n",
      "Epoch 038/301 | Loss 0.0052 | Win/lose count 10.0/1.0 (9.0)\n",
      "Epoch 039/301 | Loss 0.0029 | Win/lose count 5.0/2.0 (3.0)\n",
      "Epoch 040/301 | Loss 0.0017 | Win/lose count 13.5/2.0 (11.5)\n",
      "Epoch 041/301 | Loss 0.0021 | Win/lose count 7.0/1.0 (6.0)\n",
      "Epoch 042/301 | Loss 0.0049 | Win/lose count 10.0/0 (10.0)\n",
      "Epoch 043/301 | Loss 0.0019 | Win/lose count 8.0/3.0 (5.0)\n",
      "Epoch 044/301 | Loss 0.0055 | Win/lose count 5.5/2.0 (3.5)\n",
      "Epoch 045/301 | Loss 0.0041 | Win/lose count 3.0/3.0 (0.0)\n",
      "Epoch 046/301 | Loss 0.0021 | Win/lose count 8.5/2.0 (6.5)\n",
      "Epoch 047/301 | Loss 0.0098 | Win/lose count 10.5/1.0 (9.5)\n",
      "Epoch 048/301 | Loss 0.0537 | Win/lose count 14.5/6.0 (8.5)\n",
      "Epoch 049/301 | Loss 0.0026 | Win/lose count 7.5/0 (7.5)\n",
      "Epoch 050/301 | Loss 0.0033 | Win/lose count 19.5/1.0 (18.5)\n",
      "Epoch 051/301 | Loss 0.0044 | Win/lose count 12.5/5.0 (7.5)\n",
      "Epoch 052/301 | Loss 0.0514 | Win/lose count 18.0/3.0 (15.0)\n",
      "Epoch 053/301 | Loss 0.0028 | Win/lose count 5.5/5.0 (0.5)\n",
      "Epoch 054/301 | Loss 0.0032 | Win/lose count 9.0/1.0 (8.0)\n",
      "Epoch 055/301 | Loss 0.0048 | Win/lose count 3.5/4.0 (-0.5)\n",
      "Epoch 056/301 | Loss 0.0049 | Win/lose count 16.5/2.0 (14.5)\n",
      "Epoch 057/301 | Loss 0.0029 | Win/lose count 6.5/4.0 (2.5)\n",
      "Epoch 058/301 | Loss 0.0072 | Win/lose count 16.0/4.0 (12.0)\n",
      "Epoch 059/301 | Loss 0.0456 | Win/lose count 14.0/0 (14.0)\n",
      "Epoch 060/301 | Loss 0.0031 | Win/lose count 14.0/4.0 (10.0)\n",
      "Epoch 061/301 | Loss 0.0041 | Win/lose count 5.0/2.0 (3.0)\n",
      "Epoch 062/301 | Loss 0.0034 | Win/lose count 8.5/1.0 (7.5)\n",
      "Epoch 063/301 | Loss 0.0553 | Win/lose count 14.5/3.0 (11.5)\n",
      "Epoch 064/301 | Loss 0.0035 | Win/lose count 15.5/2.0 (13.5)\n",
      "Epoch 065/301 | Loss 0.0624 | Win/lose count 14.0/3.0 (11.0)\n",
      "Epoch 066/301 | Loss 0.0033 | Win/lose count 9.5/5.0 (4.5)\n",
      "Epoch 067/301 | Loss 0.0041 | Win/lose count 17.0/3.0 (14.0)\n",
      "Epoch 068/301 | Loss 0.0577 | Win/lose count 21.5/8.0 (13.5)\n",
      "Epoch 069/301 | Loss 0.0551 | Win/lose count 6.0/0 (6.0)\n",
      "Epoch 070/301 | Loss 0.0032 | Win/lose count 12.0/3.0 (9.0)\n",
      "Epoch 071/301 | Loss 0.1023 | Win/lose count 15.5/2.0 (13.5)\n",
      "Epoch 072/301 | Loss 0.0050 | Win/lose count 10.0/5.0 (5.0)\n",
      "Epoch 073/301 | Loss 0.0037 | Win/lose count 16.5/3.0 (13.5)\n",
      "Epoch 074/301 | Loss 0.0030 | Win/lose count 9.0/2.0 (7.0)\n",
      "Epoch 075/301 | Loss 0.0419 | Win/lose count 17.0/3.0 (14.0)\n",
      "Epoch 076/301 | Loss 0.0024 | Win/lose count 9.0/2.0 (7.0)\n",
      "Epoch 077/301 | Loss 0.0612 | Win/lose count 17.5/2.0 (15.5)\n",
      "Epoch 078/301 | Loss 0.0605 | Win/lose count 5.0/4.0 (1.0)\n",
      "Epoch 079/301 | Loss 0.0493 | Win/lose count 14.0/2.0 (12.0)\n",
      "Epoch 080/301 | Loss 0.0637 | Win/lose count 7.0/4.0 (3.0)\n",
      "Epoch 081/301 | Loss 0.0042 | Win/lose count 14.5/5.0 (9.5)\n",
      "Epoch 082/301 | Loss 0.0027 | Win/lose count 12.0/4.0 (8.0)\n",
      "Epoch 083/301 | Loss 0.0038 | Win/lose count 18.5/5.0 (13.5)\n",
      "Epoch 084/301 | Loss 0.0606 | Win/lose count 12.5/2.0 (10.5)\n",
      "Epoch 085/301 | Loss 0.0029 | Win/lose count 16.0/2.0 (14.0)\n",
      "Epoch 086/301 | Loss 0.0026 | Win/lose count 9.5/2.0 (7.5)\n",
      "Epoch 087/301 | Loss 0.0028 | Win/lose count 19.5/2.0 (17.5)\n",
      "Epoch 088/301 | Loss 0.0534 | Win/lose count 9.0/3.0 (6.0)\n",
      "Epoch 089/301 | Loss 0.0030 | Win/lose count 22.0/3.0 (19.0)\n",
      "Epoch 090/301 | Loss 0.0030 | Win/lose count 13.0/2.0 (11.0)\n",
      "Epoch 091/301 | Loss 0.0022 | Win/lose count 11.0/1.0 (10.0)\n",
      "Epoch 092/301 | Loss 0.0585 | Win/lose count 20.0/3.0 (17.0)\n",
      "Epoch 093/301 | Loss 0.0039 | Win/lose count 17.0/2.0 (15.0)\n",
      "Epoch 094/301 | Loss 0.0547 | Win/lose count 11.5/1.0 (10.5)\n",
      "Epoch 095/301 | Loss 0.0036 | Win/lose count 7.5/1.0 (6.5)\n",
      "Epoch 096/301 | Loss 0.0036 | Win/lose count 12.5/0 (12.5)\n",
      "Epoch 097/301 | Loss 0.0036 | Win/lose count 15.5/3.0 (12.5)\n",
      "Epoch 098/301 | Loss 0.0044 | Win/lose count 10.5/5.0 (5.5)\n",
      "Epoch 099/301 | Loss 0.0035 | Win/lose count 8.0/5.0 (3.0)\n",
      "Epoch 100/301 | Loss 0.0033 | Win/lose count 17.5/3.0 (14.5)\n",
      "Epoch 101/301 | Loss 0.0039 | Win/lose count 10.5/2.0 (8.5)\n",
      "Epoch 102/301 | Loss 0.0033 | Win/lose count 6.5/0 (6.5)\n",
      "Epoch 103/301 | Loss 0.0018 | Win/lose count 4.0/1.0 (3.0)\n",
      "Epoch 104/301 | Loss 0.0092 | Win/lose count 18.5/5.0 (13.5)\n",
      "Epoch 105/301 | Loss 0.0041 | Win/lose count 18.0/4.0 (14.0)\n",
      "Epoch 106/301 | Loss 0.0157 | Win/lose count 14.5/5.0 (9.5)\n",
      "Epoch 107/301 | Loss 0.0023 | Win/lose count 4.0/0 (4.0)\n",
      "Epoch 108/301 | Loss 0.0041 | Win/lose count 16.5/4.0 (12.5)\n",
      "Epoch 109/301 | Loss 0.0029 | Win/lose count 14.5/1.0 (13.5)\n",
      "Epoch 110/301 | Loss 0.0020 | Win/lose count 12.5/2.0 (10.5)\n",
      "Epoch 111/301 | Loss 0.0028 | Win/lose count 6.5/1.0 (5.5)\n",
      "Epoch 112/301 | Loss 0.0022 | Win/lose count 6.5/3.0 (3.5)\n",
      "Epoch 113/301 | Loss 0.0020 | Win/lose count 8.0/1.0 (7.0)\n",
      "Epoch 114/301 | Loss 0.0027 | Win/lose count 9.5/1.0 (8.5)\n",
      "Epoch 115/301 | Loss 0.0026 | Win/lose count 4.5/1.0 (3.5)\n",
      "Epoch 116/301 | Loss 0.0020 | Win/lose count 11.5/0 (11.5)\n",
      "Epoch 117/301 | Loss 0.0020 | Win/lose count 12.5/2.0 (10.5)\n",
      "Epoch 118/301 | Loss 0.0487 | Win/lose count 7.5/1.0 (6.5)\n",
      "Epoch 119/301 | Loss 0.0032 | Win/lose count 9.5/1.0 (8.5)\n",
      "Epoch 120/301 | Loss 0.0019 | Win/lose count 11.5/1.0 (10.5)\n",
      "Epoch 121/301 | Loss 0.0025 | Win/lose count 13.5/3.0 (10.5)\n",
      "Epoch 122/301 | Loss 0.0021 | Win/lose count 19.5/1.0 (18.5)\n",
      "Epoch 123/301 | Loss 0.0581 | Win/lose count 15.5/0 (15.5)\n",
      "Epoch 124/301 | Loss 0.0072 | Win/lose count 10.5/4.0 (6.5)\n",
      "Epoch 125/301 | Loss 0.0041 | Win/lose count 19.0/0 (19.0)\n",
      "Epoch 126/301 | Loss 0.0015 | Win/lose count 3.5/3.0 (0.5)\n",
      "Epoch 127/301 | Loss 0.0029 | Win/lose count 18.5/2.0 (16.5)\n",
      "Epoch 128/301 | Loss 0.0588 | Win/lose count 6.5/2.0 (4.5)\n",
      "Epoch 129/301 | Loss 0.0043 | Win/lose count 13.5/2.0 (11.5)\n",
      "Epoch 130/301 | Loss 0.0076 | Win/lose count 10.5/4.0 (6.5)\n",
      "Epoch 131/301 | Loss 0.0038 | Win/lose count 16.0/5.0 (11.0)\n",
      "Epoch 132/301 | Loss 0.0081 | Win/lose count 24.0/5.0 (19.0)\n",
      "Epoch 133/301 | Loss 0.0022 | Win/lose count 6.5/2.0 (4.5)\n",
      "Epoch 134/301 | Loss 0.0036 | Win/lose count 13.0/5.0 (8.0)\n",
      "Epoch 135/301 | Loss 0.0042 | Win/lose count 14.0/3.0 (11.0)\n",
      "Epoch 136/301 | Loss 0.0034 | Win/lose count 12.0/2.0 (10.0)\n",
      "Epoch 137/301 | Loss 0.0024 | Win/lose count 5.5/1.0 (4.5)\n"
     ]
    },
    {
     "name": "stdout",
     "output_type": "stream",
     "text": [
      "Epoch 138/301 | Loss 0.0038 | Win/lose count 14.0/1.0 (13.0)\n",
      "Epoch 139/301 | Loss 0.0026 | Win/lose count 18.0/6.0 (12.0)\n",
      "Epoch 140/301 | Loss 0.0086 | Win/lose count 17.0/5.0 (12.0)\n",
      "Epoch 141/301 | Loss 0.0063 | Win/lose count 7.5/0 (7.5)\n",
      "Epoch 142/301 | Loss 0.0033 | Win/lose count 7.0/2.0 (5.0)\n",
      "Epoch 143/301 | Loss 0.0037 | Win/lose count 9.5/3.0 (6.5)\n",
      "Epoch 144/301 | Loss 0.0036 | Win/lose count 18.0/6.0 (12.0)\n",
      "Epoch 145/301 | Loss 0.0088 | Win/lose count 13.5/1.0 (12.5)\n",
      "Epoch 146/301 | Loss 0.0033 | Win/lose count 9.5/3.0 (6.5)\n",
      "Epoch 147/301 | Loss 0.0630 | Win/lose count 4.5/3.0 (1.5)\n",
      "Epoch 148/301 | Loss 0.0028 | Win/lose count 10.0/1.0 (9.0)\n",
      "Epoch 149/301 | Loss 0.0049 | Win/lose count 9.0/2.0 (7.0)\n",
      "Epoch 150/301 | Loss 0.0551 | Win/lose count 7.5/0 (7.5)\n",
      "Epoch 151/301 | Loss 0.0013 | Win/lose count 8.5/2.0 (6.5)\n",
      "Epoch 152/301 | Loss 0.0019 | Win/lose count 17.0/1.0 (16.0)\n",
      "Epoch 153/301 | Loss 0.0026 | Win/lose count 10.0/4.0 (6.0)\n",
      "Epoch 154/301 | Loss 0.0060 | Win/lose count 9.0/5.0 (4.0)\n",
      "Epoch 155/301 | Loss 0.0036 | Win/lose count 12.5/3.0 (9.5)\n",
      "Epoch 156/301 | Loss 0.0034 | Win/lose count 14.5/3.0 (11.5)\n",
      "Epoch 157/301 | Loss 0.0040 | Win/lose count 21.0/3.0 (18.0)\n",
      "Epoch 158/301 | Loss 0.0038 | Win/lose count 14.0/4.0 (10.0)\n",
      "Epoch 159/301 | Loss 0.0035 | Win/lose count 6.5/0 (6.5)\n",
      "Epoch 160/301 | Loss 0.0024 | Win/lose count 19.5/3.0 (16.5)\n",
      "Epoch 161/301 | Loss 0.0601 | Win/lose count 17.0/1.0 (16.0)\n",
      "Epoch 162/301 | Loss 0.0054 | Win/lose count 5.5/3.0 (2.5)\n",
      "Epoch 163/301 | Loss 0.0042 | Win/lose count 11.5/3.0 (8.5)\n",
      "Epoch 164/301 | Loss 0.0038 | Win/lose count 13.0/2.0 (11.0)\n",
      "Epoch 165/301 | Loss 0.0032 | Win/lose count 13.0/2.0 (11.0)\n",
      "Epoch 166/301 | Loss 0.0020 | Win/lose count 8.5/0 (8.5)\n",
      "Epoch 167/301 | Loss 0.0016 | Win/lose count 18.5/2.0 (16.5)\n",
      "Epoch 168/301 | Loss 0.0040 | Win/lose count 6.0/1.0 (5.0)\n",
      "Epoch 169/301 | Loss 0.0029 | Win/lose count 24.5/3.0 (21.5)\n",
      "Epoch 170/301 | Loss 0.0031 | Win/lose count 16.0/3.0 (13.0)\n",
      "Epoch 171/301 | Loss 0.0041 | Win/lose count 7.0/0 (7.0)\n",
      "Epoch 172/301 | Loss 0.0525 | Win/lose count 9.5/0 (9.5)\n",
      "Epoch 173/301 | Loss 0.0016 | Win/lose count 9.5/3.0 (6.5)\n",
      "Epoch 174/301 | Loss 0.0028 | Win/lose count 7.0/1.0 (6.0)\n",
      "Epoch 175/301 | Loss 0.0033 | Win/lose count 19.0/4.0 (15.0)\n",
      "Epoch 176/301 | Loss 0.0033 | Win/lose count 11.5/2.0 (9.5)\n",
      "Epoch 177/301 | Loss 0.0021 | Win/lose count 17.5/1.0 (16.5)\n",
      "Epoch 178/301 | Loss 0.0035 | Win/lose count 18.0/2.0 (16.0)\n",
      "Epoch 179/301 | Loss 0.0027 | Win/lose count 16.5/2.0 (14.5)\n",
      "Epoch 180/301 | Loss 0.0041 | Win/lose count 14.5/4.0 (10.5)\n",
      "Epoch 181/301 | Loss 0.0019 | Win/lose count 11.5/4.0 (7.5)\n",
      "Epoch 182/301 | Loss 0.0038 | Win/lose count 10.5/3.0 (7.5)\n",
      "Epoch 183/301 | Loss 0.0037 | Win/lose count 22.0/5.0 (17.0)\n",
      "Epoch 184/301 | Loss 0.0036 | Win/lose count 9.0/5.0 (4.0)\n",
      "Epoch 185/301 | Loss 0.0019 | Win/lose count 15.0/0 (15.0)\n",
      "Epoch 186/301 | Loss 0.0029 | Win/lose count 12.5/3.0 (9.5)\n",
      "Epoch 187/301 | Loss 0.0024 | Win/lose count 5.0/2.0 (3.0)\n",
      "Epoch 188/301 | Loss 0.0453 | Win/lose count 16.0/5.0 (11.0)\n",
      "Epoch 189/301 | Loss 0.0030 | Win/lose count 10.0/2.0 (8.0)\n",
      "Epoch 190/301 | Loss 0.0049 | Win/lose count 6.0/6.0 (0.0)\n",
      "Epoch 191/301 | Loss 0.0025 | Win/lose count 14.5/5.0 (9.5)\n",
      "Epoch 192/301 | Loss 0.0016 | Win/lose count 7.5/2.0 (5.5)\n",
      "Epoch 193/301 | Loss 0.0030 | Win/lose count 10.0/0 (10.0)\n",
      "Epoch 194/301 | Loss 0.0020 | Win/lose count 13.5/2.0 (11.5)\n",
      "Epoch 195/301 | Loss 0.0050 | Win/lose count 8.5/2.0 (6.5)\n",
      "Epoch 196/301 | Loss 0.0019 | Win/lose count 16.0/7.0 (9.0)\n",
      "Epoch 197/301 | Loss 0.0029 | Win/lose count 15.0/3.0 (12.0)\n",
      "Epoch 198/301 | Loss 0.0007 | Win/lose count 3.5/0 (3.5)\n",
      "Epoch 199/301 | Loss 0.0010 | Win/lose count 12.0/3.0 (9.0)\n",
      "Epoch 200/301 | Loss 0.0014 | Win/lose count 15.5/5.0 (10.5)\n",
      "Epoch 201/301 | Loss 0.0045 | Win/lose count 16.5/2.0 (14.5)\n",
      "Epoch 202/301 | Loss 0.0641 | Win/lose count 22.0/2.0 (20.0)\n",
      "Epoch 203/301 | Loss 0.0039 | Win/lose count 5.5/3.0 (2.5)\n",
      "Epoch 204/301 | Loss 0.0020 | Win/lose count 16.0/2.0 (14.0)\n",
      "Epoch 205/301 | Loss 0.0027 | Win/lose count 19.0/2.0 (17.0)\n",
      "Epoch 206/301 | Loss 0.0034 | Win/lose count 14.5/4.0 (10.5)\n",
      "Epoch 207/301 | Loss 0.0028 | Win/lose count 21.5/3.0 (18.5)\n",
      "Epoch 208/301 | Loss 0.0033 | Win/lose count 18.0/4.0 (14.0)\n",
      "Epoch 209/301 | Loss 0.0037 | Win/lose count 11.5/2.0 (9.5)\n",
      "Epoch 210/301 | Loss 0.0027 | Win/lose count 4.0/5.0 (-1.0)\n",
      "Epoch 211/301 | Loss 0.0038 | Win/lose count 8.0/2.0 (6.0)\n",
      "Epoch 212/301 | Loss 0.0045 | Win/lose count 14.0/1.0 (13.0)\n",
      "Epoch 213/301 | Loss 0.0042 | Win/lose count 23.5/5.0 (18.5)\n",
      "Epoch 214/301 | Loss 0.0047 | Win/lose count 8.0/1.0 (7.0)\n",
      "Epoch 215/301 | Loss 0.0033 | Win/lose count 16.5/3.0 (13.5)\n",
      "Epoch 216/301 | Loss 0.0029 | Win/lose count 18.5/1.0 (17.5)\n",
      "Epoch 217/301 | Loss 0.0044 | Win/lose count 3.0/1.0 (2.0)\n",
      "Epoch 218/301 | Loss 0.0032 | Win/lose count 13.5/1.0 (12.5)\n",
      "Epoch 219/301 | Loss 0.0019 | Win/lose count 15.0/7.0 (8.0)\n",
      "Epoch 220/301 | Loss 0.0039 | Win/lose count 12.5/4.0 (8.5)\n",
      "Epoch 221/301 | Loss 0.0026 | Win/lose count 8.5/4.0 (4.5)\n",
      "Epoch 222/301 | Loss 0.0031 | Win/lose count 18.5/1.0 (17.5)\n",
      "Epoch 223/301 | Loss 0.0216 | Win/lose count 3.5/2.0 (1.5)\n",
      "Epoch 224/301 | Loss 0.0041 | Win/lose count 11.5/2.0 (9.5)\n",
      "Epoch 225/301 | Loss 0.0475 | Win/lose count 11.5/3.0 (8.5)\n",
      "Epoch 226/301 | Loss 0.0014 | Win/lose count 2.5/0 (2.5)\n",
      "Epoch 227/301 | Loss 0.0450 | Win/lose count 17.5/5.0 (12.5)\n",
      "Epoch 228/301 | Loss 0.0023 | Win/lose count 12.0/3.0 (9.0)\n",
      "Epoch 229/301 | Loss 0.0019 | Win/lose count 11.5/2.0 (9.5)\n",
      "Epoch 230/301 | Loss 0.0043 | Win/lose count 16.0/3.0 (13.0)\n",
      "Epoch 231/301 | Loss 0.0512 | Win/lose count 10.0/4.0 (6.0)\n",
      "Epoch 232/301 | Loss 0.0041 | Win/lose count 9.0/1.0 (8.0)\n",
      "Epoch 233/301 | Loss 0.0036 | Win/lose count 14.5/3.0 (11.5)\n",
      "Epoch 234/301 | Loss 0.0024 | Win/lose count 14.0/6.0 (8.0)\n",
      "Epoch 235/301 | Loss 0.0024 | Win/lose count 9.0/5.0 (4.0)\n",
      "Epoch 236/301 | Loss 0.0042 | Win/lose count 15.5/7.0 (8.5)\n",
      "Epoch 237/301 | Loss 0.0037 | Win/lose count 17.5/5.0 (12.5)\n",
      "Epoch 238/301 | Loss 0.0035 | Win/lose count 16.0/2.0 (14.0)\n",
      "Epoch 239/301 | Loss 0.0023 | Win/lose count 12.0/2.0 (10.0)\n",
      "Epoch 240/301 | Loss 0.0029 | Win/lose count 17.5/1.0 (16.5)\n",
      "Epoch 241/301 | Loss 0.0008 | Win/lose count 6.0/3.0 (3.0)\n",
      "Epoch 242/301 | Loss 0.0028 | Win/lose count 23.0/1.0 (22.0)\n",
      "Epoch 243/301 | Loss 0.0028 | Win/lose count 11.0/5.0 (6.0)\n",
      "Epoch 244/301 | Loss 0.0036 | Win/lose count 15.5/1.0 (14.5)\n",
      "Epoch 245/301 | Loss 0.0054 | Win/lose count 17.5/3.0 (14.5)\n",
      "Epoch 246/301 | Loss 0.0031 | Win/lose count 19.5/2.0 (17.5)\n",
      "Epoch 247/301 | Loss 0.0033 | Win/lose count 20.5/4.0 (16.5)\n",
      "Epoch 248/301 | Loss 0.0027 | Win/lose count 7.0/1.0 (6.0)\n",
      "Epoch 249/301 | Loss 0.0038 | Win/lose count 16.5/5.0 (11.5)\n",
      "Epoch 250/301 | Loss 0.0027 | Win/lose count 7.0/1.0 (6.0)\n",
      "Epoch 251/301 | Loss 0.0072 | Win/lose count 15.0/2.0 (13.0)\n",
      "Epoch 252/301 | Loss 0.0031 | Win/lose count 10.0/2.0 (8.0)\n",
      "Epoch 253/301 | Loss 0.0043 | Win/lose count 13.0/6.0 (7.0)\n",
      "Epoch 254/301 | Loss 0.0019 | Win/lose count 16.5/3.0 (13.5)\n",
      "Epoch 255/301 | Loss 0.0030 | Win/lose count 8.0/0 (8.0)\n",
      "Epoch 256/301 | Loss 0.0024 | Win/lose count 10.5/1.0 (9.5)\n",
      "Epoch 257/301 | Loss 0.0521 | Win/lose count 4.5/0 (4.5)\n",
      "Epoch 258/301 | Loss 0.0019 | Win/lose count 14.5/2.0 (12.5)\n",
      "Epoch 259/301 | Loss 0.0611 | Win/lose count 15.0/1.0 (14.0)\n",
      "Epoch 260/301 | Loss 0.0027 | Win/lose count 15.5/4.0 (11.5)\n",
      "Epoch 261/301 | Loss 0.0565 | Win/lose count 13.0/0 (13.0)\n",
      "Epoch 262/301 | Loss 0.0032 | Win/lose count 10.0/2.0 (8.0)\n",
      "Epoch 263/301 | Loss 0.0023 | Win/lose count 6.0/0 (6.0)\n",
      "Epoch 264/301 | Loss 0.0043 | Win/lose count 10.5/2.0 (8.5)\n",
      "Epoch 265/301 | Loss 0.0073 | Win/lose count 12.5/0 (12.5)\n",
      "Epoch 266/301 | Loss 0.0024 | Win/lose count 14.5/2.0 (12.5)\n",
      "Epoch 267/301 | Loss 0.0050 | Win/lose count 3.5/2.0 (1.5)\n",
      "Epoch 268/301 | Loss 0.0027 | Win/lose count 22.5/4.0 (18.5)\n",
      "Epoch 269/301 | Loss 0.0026 | Win/lose count 5.5/2.0 (3.5)\n",
      "Epoch 270/301 | Loss 0.0051 | Win/lose count 6.5/1.0 (5.5)\n",
      "Epoch 271/301 | Loss 0.0044 | Win/lose count 8.5/1.0 (7.5)\n",
      "Epoch 272/301 | Loss 0.0033 | Win/lose count 9.5/6.0 (3.5)\n",
      "Epoch 273/301 | Loss 0.0054 | Win/lose count 8.0/1.0 (7.0)\n",
      "Epoch 274/301 | Loss 0.0012 | Win/lose count 21.5/1.0 (20.5)\n"
     ]
    },
    {
     "name": "stdout",
     "output_type": "stream",
     "text": [
      "Epoch 275/301 | Loss 0.0024 | Win/lose count 13.5/1.0 (12.5)\n",
      "Epoch 276/301 | Loss 0.0015 | Win/lose count 18.0/4.0 (14.0)\n",
      "Epoch 277/301 | Loss 0.0030 | Win/lose count 12.0/2.0 (10.0)\n",
      "Epoch 278/301 | Loss 0.0014 | Win/lose count 20.5/2.0 (18.5)\n",
      "Epoch 279/301 | Loss 0.0026 | Win/lose count 21.0/2.0 (19.0)\n",
      "Epoch 280/301 | Loss 0.0046 | Win/lose count 11.0/2.0 (9.0)\n",
      "Epoch 281/301 | Loss 0.0043 | Win/lose count 12.0/2.0 (10.0)\n",
      "Epoch 282/301 | Loss 0.0029 | Win/lose count 16.5/7.0 (9.5)\n",
      "Epoch 283/301 | Loss 0.0046 | Win/lose count 20.0/3.0 (17.0)\n",
      "Epoch 284/301 | Loss 0.0033 | Win/lose count 7.5/2.0 (5.5)\n",
      "Epoch 285/301 | Loss 0.0488 | Win/lose count 19.5/2.0 (17.5)\n",
      "Epoch 286/301 | Loss 0.0455 | Win/lose count 9.0/4.0 (5.0)\n",
      "Epoch 287/301 | Loss 0.0042 | Win/lose count 16.0/7.0 (9.0)\n",
      "Epoch 288/301 | Loss 0.0034 | Win/lose count 25.5/3.0 (22.5)\n",
      "Epoch 289/301 | Loss 0.0051 | Win/lose count 15.0/2.0 (13.0)\n",
      "Epoch 290/301 | Loss 0.0038 | Win/lose count 10.5/0 (10.5)\n",
      "Epoch 291/301 | Loss 0.0025 | Win/lose count 19.0/3.0 (16.0)\n",
      "Epoch 292/301 | Loss 0.0018 | Win/lose count 14.0/3.0 (11.0)\n",
      "Epoch 293/301 | Loss 0.0035 | Win/lose count 7.0/5.0 (2.0)\n",
      "Epoch 294/301 | Loss 0.0547 | Win/lose count 12.5/0 (12.5)\n",
      "Epoch 295/301 | Loss 0.0042 | Win/lose count 7.5/0 (7.5)\n",
      "Epoch 296/301 | Loss 0.0044 | Win/lose count 12.0/2.0 (10.0)\n",
      "Epoch 297/301 | Loss 0.0027 | Win/lose count 19.5/1.0 (18.5)\n",
      "Epoch 298/301 | Loss 0.0085 | Win/lose count 18.0/3.0 (15.0)\n",
      "Epoch 299/301 | Loss 0.0547 | Win/lose count 10.0/1.0 (9.0)\n",
      "Epoch 300/301 | Loss 0.0045 | Win/lose count 9.0/2.0 (7.0)\n"
     ]
    }
   ],
   "source": [
    "env = Environment(grid_size=size, max_time=T, temperature=0.3)\n",
    "agent = DQN_FC(size, lr=.1, epsilon = 0.1, memory_size=2000, batch_size = 32)\n",
    "train(agent, env, epochs_train, prefix='fc_train')"
   ]
  },
  {
   "cell_type": "code",
   "execution_count": 18,
   "metadata": {},
   "outputs": [
    {
     "data": {
      "text/html": [
       "<video alt=\"test\" controls>\n",
       "                <source src=\"data:video/mp4;base64,AAAAIGZ0eXBpc29tAAACAGlzb21pc28yYXZjMW1wNDEAAAAIZnJlZQAAF9ptZGF0AAACrQYF//+p3EXpvebZSLeWLNgg2SPu73gyNjQgLSBjb3JlIDE0OCByMjY0MyA1YzY1NzA0IC0gSC4yNjQvTVBFRy00IEFWQyBjb2RlYyAtIENvcHlsZWZ0IDIwMDMtMjAxNSAtIGh0dHA6Ly93d3cudmlkZW9sYW4ub3JnL3gyNjQuaHRtbCAtIG9wdGlvbnM6IGNhYmFjPTEgcmVmPTMgZGVibG9jaz0xOjA6MCBhbmFseXNlPTB4MzoweDExMyBtZT1oZXggc3VibWU9NyBwc3k9MSBwc3lfcmQ9MS4wMDowLjAwIG1peGVkX3JlZj0xIG1lX3JhbmdlPTE2IGNocm9tYV9tZT0xIHRyZWxsaXM9MSA4eDhkY3Q9MSBjcW09MCBkZWFkem9uZT0yMSwxMSBmYXN0X3Bza2lwPTEgY2hyb21hX3FwX29mZnNldD00IHRocmVhZHM9OCBsb29rYWhlYWRfdGhyZWFkcz0xIHNsaWNlZF90aHJlYWRzPTAgbnI9MCBkZWNpbWF0ZT0xIGludGVybGFjZWQ9MCBibHVyYXlfY29tcGF0PTAgY29uc3RyYWluZWRfaW50cmE9MCBiZnJhbWVzPTMgYl9weXJhbWlkPTIgYl9hZGFwdD0xIGJfYmlhcz0wIGRpcmVjdD0xIHdlaWdodGI9MSBvcGVuX2dvcD0wIHdlaWdodHA9MiBrZXlpbnQ9MjUwIGtleWludF9taW49MjUgc2NlbmVjdXQ9NDAgaW50cmFfcmVmcmVzaD0wIHJjX2xvb2thaGVhZD00MCByYz1jcmYgbWJ0cmVlPTEgY3JmPTIzLjAgcWNvbXA9MC42MCBxcG1pbj0wIHFwbWF4PTY5IHFwc3RlcD00IGlwX3JhdGlvPTEuNDAgYXE9MToxLjAwAIAAAAKxZYiEADf//vaH+BTZWBO6f/0/4LrOnzl/nbABNNgBSG5gp/rE//5Ff+tL+5yJZhF2Z8ClwCT8Cmkzem+0mlUR4bTT+svy7/rG25fWrTMzEWYTwY+mcKP6QqjfPl9OBwMBfBKEPiXbj8qsY09IqG6j7u4IvQ0xNEIE5wFFoKvK96atD9Gp2iHreqKbDFIjSlEKoDz8AUNQ98uqnQ7DBd6fjL5Q35FcUTbqEjte+6i8TKDGF6gLUp+N3yMqcXDRWPGVhtp1ndhOpV5wHv9RF2nbKVf7P0jjKvXB2kkz7AbvIEHML7o37bS9bhG625XPVLuY5KpdxfCdbqt/cNY+j7xSVyYHniDHJwlH1B4joK+EEQM6MC6YHwgeY/dWIr1Rbzcl7k2IOsfxrdXQUjkyMgD2khsaQ5JV3eM/10oBN3pxbEiD+wRYQSXhYdXSfG8VBMCbRLirFhEiyPWEI+IXc+JlQxNKYHCcinucS5Inor5+gFL20cErxKxxys4Bus51gE43uCJpz1eJXYcwzmv+mFaHyaNMddkMAgAUUNZqvLb7anJnVyyeLO2mR3UuejaRKIgRDk21CpwG78OsCLdQHjb+wVzTgUlaHSBwHGJD2cUeacW8YL7n5c4n/3hcj59noTnFaaWlHvb3gFChaW/TSMsmoA6QzY2yoVYXnG/OfvNUjL4ejhdawTjqsLdXeplP93HBUzdGked+J45vEmmVZQ6w4Znj3Xxiu4N1nw2A7wS/blT3eAQjGTobGKv4Wj9smwnwqM3S9huLTmh+RxOiP6lAS6cqH7CGp0mQSSvKKue0AxUCwWQiSjkchEBuFdM4cX9eWxwZ5GJnySKscOixLs3kURGHPg/HOzS+WcJvtVGTYTMharwRbmURAbPuSHC1SCvY/fEA3LHgilpccqmDwFu2YYEAAAAUQZohbEO//qmWASRkGZ+dzH3cccAAAAAUQZpFPCGTKYQ3//6nhAJpmVxVw6cAAAATQZ5jalPC/wEem/GvDeOlyIy6dgAAABABnoJ0Qr8BiXk3lbKHo3LBAAAAEAGehGpCvwF/duE3GfXpqHkAAAASQZqJSahBaJlMCGf//p4QAAR9AAAADEGep0URLC//AACygQAAABABnsZ0Qr8CdtKxejQON5WAAAAAEAGeyGpCvwF6zk72ePt0q4AAAAAZQZrKSahBbJlMCGf//p4QIqhjn4O/36fGhQAAABhBmutJ4QpSZTAhn/6eECPb+7tObsbeEHAAAAAYQZsMSeEOiZTAhn/+nhAfvObOt0CyvhJwAAAAGEGbLUnhDyZTAhn//p4QHHzm+pOI+qyHBQAAABhBm05J4Q8mUwIZ//6eEAfG015boZT2M+EAAAAZQZtvSeEPJlMCG//+p4QB8eif2tgt0FK2gQAAABhBm5BJ4Q8mUwIb//6nhAEV6bXFmf/bZZwAAAAbQZu0SeEPJlMCGf/+nhAEF6bdQT5y5dbOiu6GAAAAEEGf0kURPC//AKOykpbYrOEAAAAQAZ/xdEK/ANyAfFJtkqjugAAAAA8Bn/NqQr8AiwawLr+/ncAAAAAZQZv1SahBaJlMCGf//p4QAqHMq8t0My21MQAAABhBmhZJ4QpSZTAhn/6eEAKPzKvLdDMttbAAAAAYQZo3SeEOiZTAhn/+nhACfdNry3QzLbZRAAAAGEGaWEnhDyZTAhn//p4QAm3TbpZDH5j7KQAAABhBmnlJ4Q8mUwIZ//6eEAGbX3GhdN91uDwAAAAYQZqaSeEPJlMCGf/+nhABnfX38iRH1hIPAAAAGEGau0nhDyZTAhn//p4QAQb4h/bIY+sJnwAAABhBmtxJ4Q8mUwIZ//6eEACtcyulkMfmRgkAAAAZQZr9SeEPJlMCG//+p4QAHPB4U6zp91w0gQAAABlBmx5J4Q8mUwIb//6nhAAdoHhTrOn3XC6AAAAAK0GbIknhDyZTAhv//qeEAEu+HPmWV4wz8CmWzs+BQpB83l7bXIfPr70zoyAAAAAlQZ9ARRE8L/8ALXPrzPYP//H+T00NT+Mvh8hyFNG+x+Fj0XdooQAAABABn390Qr8AOhGI4DplN6mAAAAAEAGfYWpCvwA8zMHkuZ8lFYEAAAAZQZtjSahBaJlMCG///qeEAEu+jmgrWZTXHwAAACNBm4dJ4QpSZTAhv/6nhAEF4bNfiEAP/4SpY8//8zO7CuymWQAAABRBn6VFNEwv/wCfUBp2C5uABiLcuQAAABABn8R0Qr8AWvNEifFmKOHxAAAAEAGfxmpCvwDXu1HK/tw+h8EAAAAaQZvISahBaJlMCG///qeEAcFxn+p7+z5Nb0AAAAAWQZvsSeEKUmUwIb/+p4QFjFaQVMCpgAAAABRBngpFNEwv/wGHjSuWXGyuxaCmgQAAABABnil0Qr8CC9AOdsZq3KvgAAAAEAGeK2pCvwH5LGYfQEg0j0gAAAAaQZotSahBaJlMCG///qeEAcbsH9+YLdBa3oEAAAAlQZpRSeEKUmUwIZ/+nhAD98JdR2vbzV5lljCp+ZZMHAeZW/C4DwAAABVBnm9FNEwv/wCfMsE4FyuNi3XjceEAAAAQAZ6OdEK/ANeAfFJtkqj0gAAAABABnpBqQr8AhsnznWhheL+AAAAAGkGakkmoQWiZTAhv//6nhABp/YP8JwW6EmzBAAAAGUGas0nhClJlMCG//qeEAEO+On1HGhIcYsAAAAAZQZrUSeEOiZTAh3/+qZYAFm55hMsz58ljgAAAACdBmvhJ4Q8mUwIb//6nhACbcNmvxCAH/8JUsef/+av9FXZO6a1E1s8AAAAWQZ8WRRE8L/8AXSgNOjD9Fi4NhY5nwAAAABABnzV0Qr8ANNJoRPizFHdJAAAAEAGfN2pCvwB8WeBdf24fXSEAAAAaQZs5SahBaJlMCHf//qmWAHdTISbhwUfNGBAAAAAWQZtdSeEKUmUwIb/+p4QBgvHT7EjqgQAAAA5Bn3tFNEwv/wDciLYwIAAAABABn5p0Qr8BLxAHP60DkcjBAAAADwGfnGpCvwDBZybrPVnpnwAAABpBm55JqEFomUwId//+qZYAegdPymjH60lBwAAAABJBm6JJ4QpSZTAh3/6plgAAlYAAAAATQZ/ARTRML/8A527dM4rqexMejQAAAA8Bn/90Qr8BP8ydwbJeMesAAAAPAZ/hakK/AT9tulGkPEnrAAAAE0Gb5kmoQWiZTAh3//6plgAAlYAAAAAQQZ4ERREsL/8A58S2b9Ht4QAAABABniN0Qr8BP8tUDp2oad6BAAAADwGeJWpCvwE/bbpRpDxJ6wAAABNBmipJqEFsmUwId//+qZYAAJWBAAAAEEGeSEUVLC//AOfEtm/R7eEAAAAPAZ5ndEK/AT/MncGyXjHrAAAADwGeaWpCvwE/bbpRpDxJ6wAAABNBmm5JqEFsmUwId//+qZYAAJWAAAAAEEGejEUVLC//AOfEtm/R7eEAAAAQAZ6rdEK/AT/LVA6dqGnegQAAABABnq1qQr8BP2vnOtDC8O9BAAAAE0GaskmoQWyZTAh3//6plgAAlYEAAAAQQZ7QRRUsL/8A58S2b9Ht4QAAAA8Bnu90Qr8BP8ydwbJeMesAAAAPAZ7xakK/AT9tulGkPEnrAAAAE0Ga9kmoQWyZTAh3//6plgAAlYAAAAAQQZ8URRUsL/8A58S2b9Ht4QAAABABnzN0Qr8BP8tUDp2oad6BAAAADwGfNWpCvwE/bbpRpDxJ6wAAABlBmzpJqEFsmUwId//+qZYA0gnRP3tL7erLAAAAEEGfWEUVLC//AOenTv83bwkAAAAPAZ93dEK/ATcQB0JyXcbAAAAAEAGfeWpCvwE/seW4bNqY9YEAAAAZQZt+SahBbJlMCHf//qmWANP31fcSUtvqygAAABBBn5xFFSwv/wDnp07/N28JAAAADwGfu3RCvwE/jCAyS5STgQAAAA8Bn71qQr8BP226UaQ8SesAAAATQZuiSahBbJlMCHf//qmWAACVgAAAABBBn8BFFSwv/wDnxLZv0e3hAAAAEAGf/3RCvwE/y1QOnahp3oAAAAAPAZ/hakK/AT9tulGkPEnrAAAAGUGb5kmoQWyZTAh3//6plgDSCdE/e0vt6soAAAAQQZ4ERRUsL/8A538PXWDWwQAAABABniN0Qr8BP8tUDp2oad6BAAAADwGeJWpCvwE/5QPJgizPgQAAAB5BmipJqEFsmUwId//+qZYA0/fV9uke4OeoLPA7LKEAAAAVQZ5IRRUsL/8A538VU/pnGEhV7Uz4AAAAEAGeZ3RCvwFItHeVsoejiYAAAAAQAZ5pakK/ANKR251oYXiUwQAAABlBmm5JqEFsmUwId//+qZYA0hcghv1bOU9CAAAAFUGejEUVLC//AOenTvN79chwmETxeAAAABABnqt0Qr8AyMmhE+LMUa/xAAAADwGerWpCvwE/sI8mB69s/wAAACRBmrJJqEFsmUwId//+qZYA0/fV97Vjc/iEHX/4Sqhm//9u180AAAAVQZ7QRRUsL/8A538lFZdo6drFbDVwAAAAEAGe73RCvwE/TqTyvyU2VJAAAAAQAZ7xakK/ANy6p5LmfJKmgQAAABxBmvZJqEFsmUwIb//+p4QBwQ8TXGqDnon+LhswAAAAFUGfFEUVLC//APKnUZxOO130WVx/dAAAABABnzN0Qr8A3IB8Um2SqO6BAAAAEAGfNWpCvwFRseOV/bh83cAAAAAaQZs3SahBbJlMCHf//qmWAOZ2l/MKQpg2t6EAAAAiQZtbSeEKUmUwIb/+p4QBBem3G+BQgoKYD//hKljz//YSvwAAABNBn3lFNEwv/wCfMsFPNvFXa3J5AAAAEAGfmHRCvwDXgHxSbZKo9IEAAAAPAZ+aakK/AIbJlM2zI1qSAAAAGkGbnEmoQWiZTAh3//6plgB6EyEm4cFHzRdxAAAAEkGboEnhClJlMCHf/qmWAACVgQAAABNBn95FNEwv/wDnbt0ziup7Ex6MAAAAEAGf/XRCvwE/y1QOnahp3oAAAAAPAZ//akK/AT9tulGkPEnrAAAAE0Gb5EmoQWiZTAh3//6plgAAlYAAAAAQQZ4CRREsL/8A58S2b9Ht4QAAABABniF0Qr8BP8tUDp2oad6AAAAADwGeI2pCvwE/bbpRpDxJ6wAAABNBmihJqEFsmUwId//+qZYAAJWBAAAAEEGeRkUVLC//AOfEtm/R7eEAAAAQAZ5ldEK/AT/LVA6dqGnegQAAAA8BnmdqQr8BP226UaQ8SesAAAATQZpsSahBbJlMCHf//qmWAACVgAAAABBBnopFFSwv/wDnxLZv0e3hAAAAEAGeqXRCvwE/y1QOnahp3oAAAAAPAZ6rakK/AT9tulGkPEnrAAAAE0GasEmoQWyZTAh3//6plgAAlYEAAAAQQZ7ORRUsL/8A58S2b9Ht4QAAABABnu10Qr8BP8tUDp2oad6BAAAADwGe72pCvwE/bbpRpDxJ6wAAABNBmvRJqEFsmUwId//+qZYAAJWAAAAAEEGfEkUVLC//AOfEtm/R7eEAAAAQAZ8xdEK/AT/LVA6dqGnegAAAAA8BnzNqQr8BP226UaQ8SesAAAATQZs4SahBbJlMCHf//qmWAACVgQAAABBBn1ZFFSwv/wDnxLZv0e3hAAAAEAGfdXRCvwE/y1QOnahp3oEAAAAPAZ93akK/AT9tulGkPEnrAAAAE0GbfEmoQWyZTAh3//6plgAAlYAAAAAQQZ+aRRUsL/8A58S2b9Ht4QAAABABn7l0Qr8BP8tUDp2oad6AAAAADwGfu2pCvwE/bbpRpDxJ6wAAABNBm6BJqEFsmUwId//+qZYAAJWBAAAAEEGf3kUVLC//AOfEtm/R7eEAAAAQAZ/9dEK/AT/LVA6dqGnegAAAAA8Bn/9qQr8BP226UaQ8SesAAAASQZvkSahBbJlMCG///qeEAAEnAAAAEEGeAkUVLC//AOfEtm/R7eEAAAAQAZ4hdEK/AT/LVA6dqGnegAAAABABniNqQr8BP2vnOtDC8O9BAAAAEkGaKEmoQWyZTAhn//6eEAAEfQAAABBBnkZFFSwv/wDnxLZv0e3hAAAADwGeZXRCvwE/zJ3Bsl4x6wAAAA8BnmdqQr8BP226UaQ8SesAAAAZQZppSahBbJlMCG///qeEAPLwmZXILeml/gAAABhBmopJ4QpSZTAhv/6nhACfdNuKZFCe/+kAAAAaQZquSeEOiZTAhv/+p4QAowA1IMy30T9CjcAAAAAUQZ7MRRE8L/8AYhV3e2lDMtaulSAAAAAQAZ7rdEK/AFQTqTyvyU2jcQAAABABnu1qQr8Aguzxyv7cPrTBAAAAGkGa70moQWiZTAhv//6nhAD3HGf6rfMfiDUhAAAAEUGbE0nhClJlMCGf/p4QAAR8AAAAE0GfMUU0TC//AOHu30WK7i0fPxYAAAAQAZ9QdEK/AT/oBztjjTPrYQAAABABn1JqQr8BNpZDD6AkHEz4AAAAGkGbVEmoQWiZTAhv//6nhAD8g8KdZ0+62t6AAAAAGEGbdUnhClJlMCG//qeEAQQfMeRif5bZeQAAABlBm5ZJ4Q6JlMCHf/6plgCIFHOtD1ffIUnAAAAAEkGbuknhDyZTAh3//qmWAACVgQAAAAxBn9hFETwv/wAAsoEAAAAPAZ/3dEK/AOI2Boec8ullAAAAEAGf+WpCvwFaja7rIYcjfcEAAAAcQZv+SahBaJlMCHf//qmWAOOdQshJuDePP5cFxAAAABBBnhxFESwv/wDyp1G9gielAAAADwGeO3RCvwDiNga6+LSygQAAABABnj1qQr8BWlGiZE0rNmBAAAAAHkGaIkmoQWyZTAhv//6nhAHG7B/kOvTo5lliZHMnoQAAABVBnkBFFSwv/wDyfw9U/pnFtPJGzKEAAAAQAZ5/dEK/AVFNaMkt/rZ6QAAAABABnmFqQr8A0pHbnWhheJTBAAAAGkGaZkmoQWyZTAhn//6eEAJ9026jz8i2EUK2AAAAFUGehEUVLC//AGIEbvM5ZcbGpLp/aQAAABABnqN0Qr8Agrq0ZJb/W5uBAAAAEAGepWpCvwBUG5DD6AkHHAkAAAAaQZqpS6hCEFskRggoB/IB/YeAIV/+OEAAEXEAAAAnQZ7IQhX/Aq9j7UHE3arDSSblqoYHLLW88m5x3o0MrOL441lZ0aNoAAAAEAGe52kQrwA3QB8Um1vVd0AAAAvhbW9vdgAAAGxtdmhkAAAAAAAAAAAAAAAAAAAD6AAAH5AAAQAAAQAAAAAAAAAAAAAAAAEAAAAAAAAAAAAAAAAAAAABAAAAAAAAAAAAAAAAAABAAAAAAAAAAAAAAAAAAAAAAAAAAAAAAAAAAAAAAAAAAgAACwt0cmFrAAAAXHRraGQAAAADAAAAAAAAAAAAAAABAAAAAAAAH5AAAAAAAAAAAAAAAAAAAAAAAAEAAAAAAAAAAAAAAAAAAAABAAAAAAAAAAAAAAAAAABAAAAAARAAAAEQAAAAAAAkZWR0cwAAABxlbHN0AAAAAAAAAAEAAB+QAAAEAAABAAAAAAqDbWRpYQAAACBtZGhkAAAAAAAAAAAAAAAAAAAyAAABlABVxAAAAAAALWhkbHIAAAAAAAAAAHZpZGUAAAAAAAAAAAAAAABWaWRlb0hhbmRsZXIAAAAKLm1pbmYAAAAUdm1oZAAAAAEAAAAAAAAAAAAAACRkaW5mAAAAHGRyZWYAAAAAAAAAAQAAAAx1cmwgAAAAAQAACe5zdGJsAAAAlnN0c2QAAAAAAAAAAQAAAIZhdmMxAAAAAAAAAAEAAAAAAAAAAAAAAAAAAAAAARABEABIAAAASAAAAAAAAAABAAAAAAAAAAAAAAAAAAAAAAAAAAAAAAAAAAAAAAAAAAAAGP//AAAAMGF2Y0MB9AAN/+EAF2f0AA2RmygiEdCAAAADAIAAABkHihTLAQAGaOvjxEhEAAAAGHN0dHMAAAAAAAAAAQAAAMoAAAIAAAAAFHN0c3MAAAAAAAAAAQAAAAEAAAW4Y3R0cwAAAAAAAAC1AAAAAgAABAAAAAABAAAKAAAAAAEAAAQAAAAAAQAAAAAAAAABAAACAAAAAAEAAAoAAAAAAQAABAAAAAABAAAAAAAAAAEAAAIAAAAABwAABAAAAAABAAAKAAAAAAEAAAQAAAAAAQAAAAAAAAABAAACAAAAAAoAAAQAAAAAAQAACgAAAAABAAAEAAAAAAEAAAAAAAAAAQAAAgAAAAABAAAEAAAAAAEAAAoAAAAAAQAABAAAAAABAAAAAAAAAAEAAAIAAAAAAQAABAAAAAABAAAKAAAAAAEAAAQAAAAAAQAAAAAAAAABAAACAAAAAAEAAAQAAAAAAQAACgAAAAABAAAEAAAAAAEAAAAAAAAAAQAAAgAAAAADAAAEAAAAAAEAAAoAAAAAAQAABAAAAAABAAAAAAAAAAEAAAIAAAAAAQAABAAAAAABAAAKAAAAAAEAAAQAAAAAAQAAAAAAAAABAAACAAAAAAEAAAQAAAAAAQAACgAAAAABAAAEAAAAAAEAAAAAAAAAAQAAAgAAAAABAAAKAAAAAAEAAAQAAAAAAQAAAAAAAAABAAACAAAAAAEAAAoAAAAAAQAABAAAAAABAAAAAAAAAAEAAAIAAAAAAQAACgAAAAABAAAEAAAAAAEAAAAAAAAAAQAAAgAAAAABAAAKAAAAAAEAAAQAAAAAAQAAAAAAAAABAAACAAAAAAEAAAoAAAAAAQAABAAAAAABAAAAAAAAAAEAAAIAAAAAAQAACgAAAAABAAAEAAAAAAEAAAAAAAAAAQAAAgAAAAABAAAKAAAAAAEAAAQAAAAAAQAAAAAAAAABAAACAAAAAAEAAAoAAAAAAQAABAAAAAABAAAAAAAAAAEAAAIAAAAAAQAACgAAAAABAAAEAAAAAAEAAAAAAAAAAQAAAgAAAAABAAAKAAAAAAEAAAQAAAAAAQAAAAAAAAABAAACAAAAAAEAAAoAAAAAAQAABAAAAAABAAAAAAAAAAEAAAIAAAAAAQAACgAAAAABAAAEAAAAAAEAAAAAAAAAAQAAAgAAAAABAAAKAAAAAAEAAAQAAAAAAQAAAAAAAAABAAACAAAAAAEAAAQAAAAAAQAACgAAAAABAAAEAAAAAAEAAAAAAAAAAQAAAgAAAAABAAAEAAAAAAEAAAoAAAAAAQAABAAAAAABAAAAAAAAAAEAAAIAAAAAAQAACgAAAAABAAAEAAAAAAEAAAAAAAAAAQAAAgAAAAABAAAKAAAAAAEAAAQAAAAAAQAAAAAAAAABAAACAAAAAAEAAAoAAAAAAQAABAAAAAABAAAAAAAAAAEAAAIAAAAAAQAACgAAAAABAAAEAAAAAAEAAAAAAAAAAQAAAgAAAAABAAAKAAAAAAEAAAQAAAAAAQAAAAAAAAABAAACAAAAAAEAAAoAAAAAAQAABAAAAAABAAAAAAAAAAEAAAIAAAAAAQAACgAAAAABAAAEAAAAAAEAAAAAAAAAAQAAAgAAAAABAAAKAAAAAAEAAAQAAAAAAQAAAAAAAAABAAACAAAAAAEAAAoAAAAAAQAABAAAAAABAAAAAAAAAAEAAAIAAAAAAQAACgAAAAABAAAEAAAAAAEAAAAAAAAAAQAAAgAAAAACAAAEAAAAAAEAAAoAAAAAAQAABAAAAAABAAAAAAAAAAEAAAIAAAAAAQAABAAAAAABAAAKAAAAAAEAAAQAAAAAAQAAAAAAAAABAAACAAAAAAMAAAQAAAAAAQAACgAAAAABAAAEAAAAAAEAAAAAAAAAAQAAAgAAAAABAAAKAAAAAAEAAAQAAAAAAQAAAAAAAAABAAACAAAAAAEAAAoAAAAAAQAABAAAAAABAAAAAAAAAAEAAAIAAAAAAQAACgAAAAABAAAEAAAAAAEAAAAAAAAAAQAAAgAAAAABAAAIAAAAAAEAAAQAAAAAAQAAAAAAAAAcc3RzYwAAAAAAAAABAAAAAQAAAMoAAAABAAADPHN0c3oAAAAAAAAAAAAAAMoAAAVmAAAAGAAAABgAAAAXAAAAFAAAABQAAAAWAAAAEAAAABQAAAAUAAAAHQAAABwAAAAcAAAAHAAAABwAAAAdAAAAHAAAAB8AAAAUAAAAFAAAABMAAAAdAAAAHAAAABwAAAAcAAAAHAAAABwAAAAcAAAAHAAAAB0AAAAdAAAALwAAACkAAAAUAAAAFAAAAB0AAAAnAAAAGAAAABQAAAAUAAAAHgAAABoAAAAYAAAAFAAAABQAAAAeAAAAKQAAABkAAAAUAAAAFAAAAB4AAAAdAAAAHQAAACsAAAAaAAAAFAAAABQAAAAeAAAAGgAAABIAAAAUAAAAEwAAAB4AAAAWAAAAFwAAABMAAAATAAAAFwAAABQAAAAUAAAAEwAAABcAAAAUAAAAEwAAABMAAAAXAAAAFAAAABQAAAAUAAAAFwAAABQAAAATAAAAEwAAABcAAAAUAAAAFAAAABMAAAAdAAAAFAAAABMAAAAUAAAAHQAAABQAAAATAAAAEwAAABcAAAAUAAAAFAAAABMAAAAdAAAAFAAAABQAAAATAAAAIgAAABkAAAAUAAAAFAAAAB0AAAAZAAAAFAAAABMAAAAoAAAAGQAAABQAAAAUAAAAIAAAABkAAAAUAAAAFAAAAB4AAAAmAAAAFwAAABQAAAATAAAAHgAAABYAAAAXAAAAFAAAABMAAAAXAAAAFAAAABQAAAATAAAAFwAAABQAAAAUAAAAEwAAABcAAAAUAAAAFAAAABMAAAAXAAAAFAAAABQAAAATAAAAFwAAABQAAAAUAAAAEwAAABcAAAAUAAAAFAAAABMAAAAXAAAAFAAAABQAAAATAAAAFwAAABQAAAAUAAAAEwAAABYAAAAUAAAAFAAAABQAAAAWAAAAFAAAABMAAAATAAAAHQAAABwAAAAeAAAAGAAAABQAAAAUAAAAHgAAABUAAAAXAAAAFAAAABQAAAAeAAAAHAAAAB0AAAAWAAAAEAAAABMAAAAUAAAAIAAAABQAAAATAAAAFAAAACIAAAAZAAAAFAAAABQAAAAeAAAAGQAAABQAAAAUAAAAHgAAACsAAAAUAAAAFHN0Y28AAAAAAAAAAQAAADAAAABidWR0YQAAAFptZXRhAAAAAAAAACFoZGxyAAAAAAAAAABtZGlyYXBwbAAAAAAAAAAAAAAAAC1pbHN0AAAAJal0b28AAAAdZGF0YQAAAAEAAAAATGF2ZjU2LjQwLjEwMQ==\" type=\"video/mp4\" />\n",
       "             </video>"
      ],
      "text/plain": [
       "<IPython.core.display.HTML object>"
      ]
     },
     "execution_count": 18,
     "metadata": {},
     "output_type": "execute_result"
    }
   ],
   "source": [
    "HTML(display_videos('fc_train290.mp4'))"
   ]
  },
  {
   "cell_type": "markdown",
   "metadata": {},
   "source": [
    "***\n",
    "***\n",
    "__Question 8__ Implement the DQN training algorithm using a CNN (for example, 2 convolutional layers and one final fully connected layer)."
   ]
  },
  {
   "cell_type": "code",
   "execution_count": 27,
   "metadata": {},
   "outputs": [],
   "source": [
    "class DQN_CNN(DQN):\n",
    "    def __init__(self, *args,lr=0.1,**kwargs):\n",
    "        super(DQN_CNN, self).__init__(*args,**kwargs)\n",
    "        \n",
    "        ###### FILL IN\n",
    "        \n",
    "        model = Sequential([\n",
    "            Conv2D(32, (3, 3), input_shape=(5, 5, self.n_state)),\n",
    "            Activation('relu'),\n",
    "            Conv2D(16, (3, 3)),\n",
    "            Activation('relu'),\n",
    "            Flatten(),\n",
    "            Dense(self.n_action),\n",
    "        ])\n",
    "        \n",
    "        model.compile(sgd(lr=lr, decay=1e-4, momentum=0.0), \"mse\")\n",
    "        self.model = model"
   ]
  },
  {
   "cell_type": "code",
   "execution_count": null,
   "metadata": {},
   "outputs": [],
   "source": [
    "env = Environment(grid_size=size, max_time=T, temperature=0.3)\n",
    "agent = DQN_CNN(size, lr=.1, epsilon = 0.1, memory_size=2000, batch_size = 32)\n",
    "train(agent,env,epochs_train,prefix='cnn_train')"
   ]
  },
  {
   "cell_type": "code",
   "execution_count": 30,
   "metadata": {},
   "outputs": [
    {
     "data": {
      "text/html": [
       "<video alt=\"test\" controls>\n",
       "                <source src=\"data:video/mp4;base64,AAAAIGZ0eXBpc29tAAACAGlzb21pc28yYXZjMW1wNDEAAAAIZnJlZQAAGIFtZGF0AAACrQYF//+p3EXpvebZSLeWLNgg2SPu73gyNjQgLSBjb3JlIDE0OCByMjY0MyA1YzY1NzA0IC0gSC4yNjQvTVBFRy00IEFWQyBjb2RlYyAtIENvcHlsZWZ0IDIwMDMtMjAxNSAtIGh0dHA6Ly93d3cudmlkZW9sYW4ub3JnL3gyNjQuaHRtbCAtIG9wdGlvbnM6IGNhYmFjPTEgcmVmPTMgZGVibG9jaz0xOjA6MCBhbmFseXNlPTB4MzoweDExMyBtZT1oZXggc3VibWU9NyBwc3k9MSBwc3lfcmQ9MS4wMDowLjAwIG1peGVkX3JlZj0xIG1lX3JhbmdlPTE2IGNocm9tYV9tZT0xIHRyZWxsaXM9MSA4eDhkY3Q9MSBjcW09MCBkZWFkem9uZT0yMSwxMSBmYXN0X3Bza2lwPTEgY2hyb21hX3FwX29mZnNldD00IHRocmVhZHM9OCBsb29rYWhlYWRfdGhyZWFkcz0xIHNsaWNlZF90aHJlYWRzPTAgbnI9MCBkZWNpbWF0ZT0xIGludGVybGFjZWQ9MCBibHVyYXlfY29tcGF0PTAgY29uc3RyYWluZWRfaW50cmE9MCBiZnJhbWVzPTMgYl9weXJhbWlkPTIgYl9hZGFwdD0xIGJfYmlhcz0wIGRpcmVjdD0xIHdlaWdodGI9MSBvcGVuX2dvcD0wIHdlaWdodHA9MiBrZXlpbnQ9MjUwIGtleWludF9taW49MjUgc2NlbmVjdXQ9NDAgaW50cmFfcmVmcmVzaD0wIHJjX2xvb2thaGVhZD00MCByYz1jcmYgbWJ0cmVlPTEgY3JmPTIzLjAgcWNvbXA9MC42MCBxcG1pbj0wIHFwbWF4PTY5IHFwc3RlcD00IGlwX3JhdGlvPTEuNDAgYXE9MToxLjAwAIAAAAKtZYiEADf//vaH+BTZWBO6f/0/4LrOnzl/nbABNNgBSG5gp/rE//5Ff+wQZwsgvt8CmrpGHwKSikm3S+yokr5ZKfFvq7tBqC5edwxiHfeU74Sv8qvgQoj4D2yEbWokkelTtKuPUamvQCAmTvu5ivux4cb/4xz4VlpN2U47vhc7XpwdD9GPcfNPmTUn47IkcOkidzVkG3TtMXWdWERqjHdfxJfls5RnsgK11Ko0WEYgKygISRzrue2st7k7tTcng9T1XCcCNiC1mb8raJKQo6ezIMTxzQlJgW+u0zTsAgTbbIO53FLouLz3c6LCH84cAN4IEDVjIUwTmhSYus8kS4hGEfrQGSPDOi0lD2b1S5sZ+nwkCkphhtIEdMz93OyciJ25gPGOUQTA1BIJvcAfi7gqj6DGeTIEcoUe5UX+j6jejtj+mFTACXft8exDHgXP1PL5Z/4KmMyGGxUoHT5I1VnYnKNudlSDjTKHzP3466FNbmnaex1TgKxwNnFdo882FClCwh3GnAyB4+OneaV9BQIDXHTluM8xKr1lX4f0JQOD/KQGTunOyHbHoLcGleY6Gge+4O/6pg+ni8ns2v9naBfI+tFyHItQScim7I/k8cxoJsntRo/yDYC7BGk/QyD8msKi16d8hoUuNa6c9ZkpW8heu4AYHwzw0qsQ3ZL0knGYkgLOBLdKIJtofB61IDJL3nLsSXXikFbw6+nYSDBDmoG767d1LDqcL77rhMrvYf3UIiB4wrgxtfLSl1tva+YUbvmblunNTVOIAWCjLjQ6hj1VSWUjrUgii70kSKxoAYqeNPrCP5QmbxnwMl/6HtDbf1H8ZmwBMGdtLOhm1zMLVQzs2kczVGHyOdiVFhabBNx5Ypg6LkKIr8Cb/qXhnscTLUu46naaiPhG5QAeSDhhQQAAABNBmiFsQ3/+p4QADO+wex/Pgi4mAAAAJ0GaRTwhkymEM//+nhAASb4h/jTkI0B7TBJP4hHk3//xCMlR//IwgQAAABRBnmNqU8L/AAtcrH641dTuaQDK0AAAABABnoJ0Qr8ADzRmRHYsxSdJAAAAEAGehGpCvwAPMEAnXgCgVYEAAAAZQZqGSahBaJlMCGf//p4QAB7/XG3vTfdeuwAAABhBmqdJ4QpSZTAhn/6eEAAfr1xt7033XqcAAAAYQZrISeEOiZTAhn/+nhAAIKIcfzwX8kjEAAAAGEGa6UnhDyZTAhv//qeEAAio+Y8jE/y4JwAAABhBmwpJ4Q8mUwIb//6nhAAI6PmPIxP8uB8AAAAlQZsuSeEPJlMCGf/+nhAAJNwTj/iEd4v/+IRkqP//e34+Xgx8RgAAABZBn0xFETwv/wAFroNjZoAwsuRHbZPgAAAAEAGfa3RCvwAHP4szyvyU5ukAAAAQAZ9takK/AAeZnhDxoa0BgQAAABxBm29JqEFomUwIZ//+nhAAOIU45/DnxAUz9ebBAAAAGEGbkEnhClJlMCG//qeEABavRP9SkArpQAAAABlBm7FJ4Q6JlMCG//6nhAAiqALNts+z5tJAAAAAGEGb0knhDyZTAh3//qmWABGerYTLM+fJnwAAACdBm/ZJ4Q8mUwIb//6nhAAzvCZhVP3oQ6UttAFy7v/wlSx5//zqm+AAAAAWQZ4URRE8L/8AHl3bpnFIQa4tzCXBcAAAABABnjN0Qr8AKhmiRPizFHtxAAAAEAGeNWpCvwAqDXznWhheekAAAAAjQZo6SahBaJlMCG///qeEAB/fYP8tdLrvQz4FNkYIvi73wEEAAAAVQZ5YRREsL/8AE1n+8PCb0+z9IxkxAAAAEAGed3RCvwAaYBC4D8oACOAAAAAQAZ55akK/AAulhHkuZ8nngQAAABpBmntJqEFsmUwIb//+p4QADng8KdZ0+66UgAAAACVBmp9J4QpSZTAhn/6eEADY4cO/iEd4v/+IRkqP/9klc/2bXrEVAAAAFUGevUU0TC//ACC5+g4/nTOLNud8OwAAAA8Bntx0Qr8AEt9J3Bsl5QYAAAAQAZ7eakK/AC12PHK/tw/mwAAAABpBmsBJqEFomUwIZ//+nhABT+DHP4dmT/yBJQAAABdBmuFJ4QpSZTAhn/6eEAFP9fmieZR8qAAAABhBmwJJ4Q6JlMCGf/6eEAHwKcc/hzm+szcAAAAYQZsjSeEPJlMCG//+p4QAgo+Y8jE/y215AAAAGUGbREnhDyZTAhv//qeEAMzSJ/quAx+IP8EAAAAZQZtlSeEPJlMCHf/+qZYAoNSDM//Uf66ekQAAABxBm4lJ4Q8mUwIb//6nhAKT2D17NU1m2ItLwqWVAAAAFUGfp0URPC//AgDedM4q6a9BLQGkgQAAAA8Bn8Z0Qr8Cr9IAB0xW48sAAAAQAZ/IakK/Aq5PnOsz8E64gAAAABhBm81JqEFomUwIb//+p4QCQRWqYY1LAr8AAAATQZ/rRREsL/8BG4YOZ7awrQ8KqAAAABABngp0Qr8BiQAAyQ8m7L2AAAAAEAGeDGpCvwGJdU8lzPkkvYEAAAAZQZoOSahBbJlMCG///qeEAmndTj/D6oXx6QAAACtBmjJJ4QpSZTAhv/6nhAJJ40/e3D5jfxCAf/8JUQWYv/8JMR+L//X/eybhAAAAFEGeUEU0TC//ARagM3lVlXnicezAAAAAEAGeb3RCvwF/AADJLf62bMAAAAAPAZ5xakK/AO0D+qRQJVG9AAAAGkGac0moQWiZTAh3//6plgBePklpZ0dTyLZgAAAAKUGal0nhClJlMCG//qeEBlTJ4/EIAf/wlSx5//3eX+BNf1bty88IlmzMAAAAFkGetUU0TC//AZWfb+B9JsfTNyW8sL0AAAAQAZ7UdEK/AOJYrFsbKlH90AAAABABntZqQr8CHu0ugfj+GmVBAAAAGUGa2EmoQWiZTAh3//6plgN+jnWjR/vfkTMAAAAcQZr8SeEKUmUwIb/+p4QH70c+SacoDOxo/kjMeAAAABFBnxpFNEwv/wGyF5C+2t9vmQAAAA4Bnzl0Qr8CSNga6+BBDwAAAA8BnztqQr8CMks5V3/38gMAAAAaQZs9SahBaJlMCHf//qmWAIz8efv2Qbin4uEAAAASQZtBSeEKUmUwId/+qZYAAJWAAAAADEGff0U0TC//AACygAAAAA8Bn550Qr8AkSpHEdl2VUEAAAAPAZ+AakK/AJEqRus9WeoeAAAAE0GbhUmoQWiZTAh3//6plgAAlYEAAAAMQZ+jRREsL/8AALKAAAAADwGfwnRCvwCRKkcR2XZVQQAAAA8Bn8RqQr8AkSpG6z1Z6h8AAAATQZvJSahBbJlMCHf//qmWAACVgQAAAAxBn+dFFSwv/wAAsoEAAAAPAZ4GdEK/AJEqRxHZdlVBAAAADwGeCGpCvwCRKkbrPVnqHgAAABNBmg1JqEFsmUwId//+qZYAAJWBAAAADEGeK0UVLC//AACygAAAAA8Bnkp0Qr8AkSpHEdl2VUEAAAAPAZ5MakK/AJEqRus9WeofAAAAE0GaUUmoQWyZTAh3//6plgAAlYEAAAAMQZ5vRRUsL/8AALKBAAAADwGejnRCvwCRKkcR2XZVQQAAAA8BnpBqQr8AkSpG6z1Z6h4AAAATQZqVSahBbJlMCHf//qmWAACVgQAAAAxBnrNFFSwv/wAAsoAAAAAPAZ7SdEK/AJEqRxHZdlVBAAAADwGe1GpCvwCRKkbrPVnqHwAAABNBmtlJqEFsmUwId//+qZYAAJWAAAAADEGe90UVLC//AACygQAAAA8BnxZ0Qr8AkSpHEdl2VUEAAAAPAZ8YakK/AJEqRus9WeoeAAAAJkGbHUmoQWyZTAh3//6plgBgvfq5lljCqvApmuKngUSfPtW3rD9JAAAAEEGfO0UVLC//AHFT1kE9AOAAAAAPAZ9adEK/AJLaEBklyqCBAAAAEAGfXGpCvwCa7EeS5nyS64EAAAAmQZtBSahBbJlMCHf//qmWARfGTl8Qg2//CVUM3//l2fgJB2/ZOzgAAAAQQZ9/RRUsL/8BDqAg3yFC4AAAABABn550Qr8BdcyngdMpuUGBAAAADwGfgGpCvwJeah0JptBwQAAAABNBm4VJqEFsmUwId//+qZYAAJWBAAAADEGfo0UVLC//AACygAAAABABn8J0Qr8BcbKO/AB9ulfBAAAAEAGfxGpCvwJeahz+rw43mYEAAAATQZvJSahBbJlMCHf//qmWAACVgQAAAAxBn+dFFSwv/wAAsoEAAAAQAZ4GdEK/AXGyjvwAfbpXwAAAABABnghqQr8CXmoc/q8ON5mAAAAAE0GaDUmoQWyZTAh3//6plgAAlYEAAAAMQZ4rRRUsL/8AALKAAAAAEAGeSnRCvwFxso78AH26V8AAAAAQAZ5MakK/Al5qHP6vDjeZgQAAACRBmlFJqEFsmUwIb//+p4QKSENX4hAD/+EqWPP/+67tFXJKf4EAAAAQQZ5vRRUsL/8B1p0H/NebMQAAAA8Bno50Qr8BdYxi4D8s9CAAAAAQAZ6QakK/AnY8HkwJu5zugAAAABpBmpJJqEFsmUwId//+qZYFS2Y/FLQbiFSHgQAAABZBmrZJ4QpSZTAh3/6plgCY/Rz8kT5gAAAAEkGe1EU0TC//ARb0BKLknIETQgAAAA8BnvN0Qr8BfwD4pNslURcAAAAQAZ71akK/AX91TyYHr2zZgAAAABJBmvpJqEFomUwIb//+p4QAAScAAAAQQZ8YRREsL/8BFvQQVNkGPwAAAA8Bnzd0Qr8BfwD4pNslURcAAAAQAZ85akK/AX91TyYHr2zZgQAAABtBmz5JqEFsmUwIZ//+nhAeqnOmwXXnxD+7oTcAAAASQZ9cRRUsL/8Bw6udcS0C7FxZAAAADwGfe3RCvwF/APik2yVRFwAAABABn31qQr8CXs7wK/tE+WzAAAAAGUGbf0moQWyZTAhn//6eEB+85vqLCPqqBswAAAAXQZuASeEKUmUwIb/+p4QCKabcSTuhEXEAAAAYQZuhSeEOiZTAhv/+p4QBJem3FMihPf4OAAAAHEGbxUnhDyZTAhv//qeEAMPwmYVT9QPDiyHctZUAAAATQZ/jRRE8L/8Ads/QMjl4W5cxsAAAAA8BngJ0Qr8Ao+WDBsxxJcEAAAAPAZ4EakK/AKO23SjSHiXhAAAAGUGaBkmoQWiZTAhv//6nhAB8uEzK5Bb00/MAAAAZQZonSeEKUmUwId/+qZYAKX76vrsQbioN0QAAACJBmktJ4Q6JlMCHf/6plgAb64l/8Qg2//CVUM3//7qXbY/SAAAAFUGeaUURPC//ACC6COtIr4/drFXpIAAAABABnoh0Qr8AKynUnlfkptrxAAAAEAGeimpCvwAtdjy3DZtT2oAAAAAnQZqPSahBaJlMCHf//qmWAGW1kwfEJCQf/wlRBZ//6Ql6NQ5fpwzAAAAAFUGerUURLC//AHbTo9D+fRYuDZS4LQAAABABnsx0Qr8ARYQBztjjTSFhAAAAEAGezmpCvwCj2PHK/tw+oEEAAAAjQZrTSahBbJlMCHf//qmWATe+Dn8Qg2//CVUM3//lN+l1bVUAAAAVQZ7xRRUsL/8BHs/ZqZllyHCYRO+kAAAAEAGfEHRCvwD4WKxbGypR+zEAAAAQAZ8SakK/AYl1TyYHr2zUgAAAABNBmxdJqEFsmUwId//+qZYAAJWAAAAAE0GfNUUVLC//AR70EUpHTOWLPm8AAAAQAZ9UdEK/AZN5N5Wyh6NvwAAAABABn1ZqQr8BkwWNe80rNlJBAAAAHkGbW0moQWyZTAhv//6nhAJpmVxXUucfwKbIwSpuFwAAABVBn3lFFSwv/wEeoDNtK/XIbLbzZTgAAAAPAZ+YdEK/AYkA+KTbJVEPAAAAEAGfmmpCvwDyhAJ14An80YAAAAAaQZucSahBbJlMCHf//qmWAD68Xot2QbuoakEAAAAjQZugSeEKUmUwId/+qZYAK7kSL+IQbf/hKqGb//93Rp4t8HEAAAAVQZ/eRTRML/8AM4rS9dFfH7tYq7UgAAAAEAGf/XRCvwBBXak8r8lNqLAAAAAPAZ//akK/AEV2eW4bNqcbAAAAJEGb5EmoQWiZTAh3//6plgCc8ZOXxCDb/8JVQzf/+kJejTspGgAAABVBngJFESwv/wC6UBp0YfosXBspbX0AAAAQAZ4hdEK/AGmk0InxZijfSAAAABABniNqQr8A+DPAuv7cPn0hAAAAHEGaKEmoQWyZTAh3//6plgCc9WyIomp1CDdg5x0AAAAQQZ5GRRUsL/8AujLBPjcAwQAAABABnmV0Qr8A9/DAZJb/W1JBAAAADwGeZ2pCvwCfcoHkwRbPgAAAABtBmmxJqEFsmUwId//+qZYAYzi9GFenItFi1lAAAAAVQZ6KRRUsL/8Ac/+Kqf0zjCQq9qz5AAAAEAGeqXRCvwCj2jvK2UPSCYAAAAAQAZ6rakK/AGmI7c60MLx0wAAAAB1BmrBJqEFsmUwId//+qZYAK5VZAtFnhb3jz72OgwAAABVBns5FFSwv/wAzitL10V8fu1irtSEAAAAQAZ7tdEK/AEFdqTyvyU2osQAAAA8Bnu9qQr8ARXZ5bhs2pxsAAAAkQZr0SahBbJlMCG///qeEAM3cQ7+IQA//hKljz//zV/oq6bxoAAAAFUGfEkUVLC//AHmTp3m9+uQ4TCJ8+QAAABABnzF0Qr8AaaTQifFmKN9IAAAAEAGfM2pCvwCoWEeTA9e29IAAAAAaQZs1SahBbJlMCHf//qmWAKDUgzP/1H+unpEAAAAlQZtZSeEKUmUwId/+qZYFSDTb8Qg2//CVUM3//guNwEghnz9VMAAAABVBn3dFNEwv/wHWnRE3uVyIuPWAXtEAAAAQAZ+WdEK/AZOyruQ2VKPh4QAAABABn5hqQr8Cj+aJkSvk5LaAAAAAG0GbnUmoQWiZTAh3//6plgVLaqBw/yOs6EUVsQAAABBBn7tFESwv/wHV+9fkNFNAAAAAEAGf2nRCvwJ1AjR5zEpgzukAAAAPAZ/cakK/AZMFjYHKbKSBAAAAEkGbwUmoQWyZTAhv//6nhAABJwAAABBBn/9FFSwv/wHW100vINFNAAAAEAGeHnRCvwKSQBztjE2qSsEAAAAQAZ4AakK/AnVtqD6AkFYZ8AAAABhBmgVJqEFsmUwIZ//+nhAis1G5xD+7oS8AAAAVQZ4jRRUsL/8CAb46ZxbV3ecusp3QAAAADwGeQnRCvwKv0dkGyXXj7wAAAA8BnkRqQr8CrkymbZjsI2cAAAAaQZpJS6hCEFskRggoB/IB/YeAIV/+OEAAEXEAAAAlQZ5nRRUsL/8CAdzuf3xze1gn0ZfZpdTYn0kww0O9LNhkAeLswQAAABABnoZ0Qr8CdQI0ecxKYM7oAAAAJAGeiGpCvwKvY+1BxN2qw0kqKGyUvWdg0NkkCEoPLBh9aCImwAAADAltb292AAAAbG12aGQAAAAAAAAAAAAAAAAAAAPoAAAfkAABAAABAAAAAAAAAAAAAAAAAQAAAAAAAAAAAAAAAAAAAAEAAAAAAAAAAAAAAAAAAEAAAAAAAAAAAAAAAAAAAAAAAAAAAAAAAAAAAAAAAAACAAALM3RyYWsAAABcdGtoZAAAAAMAAAAAAAAAAAAAAAEAAAAAAAAfkAAAAAAAAAAAAAAAAAAAAAAAAQAAAAAAAAAAAAAAAAAAAAEAAAAAAAAAAAAAAAAAAEAAAAABEAAAARAAAAAAACRlZHRzAAAAHGVsc3QAAAAAAAAAAQAAH5AAAAQAAAEAAAAACqttZGlhAAAAIG1kaGQAAAAAAAAAAAAAAAAAADIAAAGUAFXEAAAAAAAtaGRscgAAAAAAAAAAdmlkZQAAAAAAAAAAAAAAAFZpZGVvSGFuZGxlcgAAAApWbWluZgAAABR2bWhkAAAAAQAAAAAAAAAAAAAAJGRpbmYAAAAcZHJlZgAAAAAAAAABAAAADHVybCAAAAABAAAKFnN0YmwAAACWc3RzZAAAAAAAAAABAAAAhmF2YzEAAAAAAAAAAQAAAAAAAAAAAAAAAAAAAAABEAEQAEgAAABIAAAAAAAAAAEAAAAAAAAAAAAAAAAAAAAAAAAAAAAAAAAAAAAAAAAAAAAY//8AAAAwYXZjQwH0AA3/4QAXZ/QADZGbKCIR0IAAAAMAgAAAGQeKFMsBAAZo6+PESEQAAAAYc3R0cwAAAAAAAAABAAAAygAAAgAAAAAUc3RzcwAAAAAAAAABAAAAAQAABeBjdHRzAAAAAAAAALoAAAACAAAEAAAAAAEAAAoAAAAAAQAABAAAAAABAAAAAAAAAAEAAAIAAAAABQAABAAAAAABAAAKAAAAAAEAAAQAAAAAAQAAAAAAAAABAAACAAAAAAQAAAQAAAAAAQAACgAAAAABAAAEAAAAAAEAAAAAAAAAAQAAAgAAAAABAAAKAAAAAAEAAAQAAAAAAQAAAAAAAAABAAACAAAAAAEAAAQAAAAAAQAACgAAAAABAAAEAAAAAAEAAAAAAAAAAQAAAgAAAAAGAAAEAAAAAAEAAAoAAAAAAQAABAAAAAABAAAAAAAAAAEAAAIAAAAAAQAACgAAAAABAAAEAAAAAAEAAAAAAAAAAQAAAgAAAAABAAAEAAAAAAEAAAoAAAAAAQAABAAAAAABAAAAAAAAAAEAAAIAAAAAAQAABAAAAAABAAAKAAAAAAEAAAQAAAAAAQAAAAAAAAABAAACAAAAAAEAAAQAAAAAAQAACgAAAAABAAAEAAAAAAEAAAAAAAAAAQAAAgAAAAABAAAEAAAAAAEAAAoAAAAAAQAABAAAAAABAAAAAAAAAAEAAAIAAAAAAQAACgAAAAABAAAEAAAAAAEAAAAAAAAAAQAAAgAAAAABAAAKAAAAAAEAAAQAAAAAAQAAAAAAAAABAAACAAAAAAEAAAoAAAAAAQAABAAAAAABAAAAAAAAAAEAAAIAAAAAAQAACgAAAAABAAAEAAAAAAEAAAAAAAAAAQAAAgAAAAABAAAKAAAAAAEAAAQAAAAAAQAAAAAAAAABAAACAAAAAAEAAAoAAAAAAQAABAAAAAABAAAAAAAAAAEAAAIAAAAAAQAACgAAAAABAAAEAAAAAAEAAAAAAAAAAQAAAgAAAAABAAAKAAAAAAEAAAQAAAAAAQAAAAAAAAABAAACAAAAAAEAAAoAAAAAAQAABAAAAAABAAAAAAAAAAEAAAIAAAAAAQAACgAAAAABAAAEAAAAAAEAAAAAAAAAAQAAAgAAAAABAAAKAAAAAAEAAAQAAAAAAQAAAAAAAAABAAACAAAAAAEAAAoAAAAAAQAABAAAAAABAAAAAAAAAAEAAAIAAAAAAQAABAAAAAABAAAKAAAAAAEAAAQAAAAAAQAAAAAAAAABAAACAAAAAAEAAAoAAAAAAQAABAAAAAABAAAAAAAAAAEAAAIAAAAAAQAACgAAAAABAAAEAAAAAAEAAAAAAAAAAQAAAgAAAAADAAAEAAAAAAEAAAoAAAAAAQAABAAAAAABAAAAAAAAAAEAAAIAAAAAAgAABAAAAAABAAAKAAAAAAEAAAQAAAAAAQAAAAAAAAABAAACAAAAAAEAAAoAAAAAAQAABAAAAAABAAAAAAAAAAEAAAIAAAAAAQAACgAAAAABAAAEAAAAAAEAAAAAAAAAAQAAAgAAAAABAAAKAAAAAAEAAAQAAAAAAQAAAAAAAAABAAACAAAAAAEAAAoAAAAAAQAABAAAAAABAAAAAAAAAAEAAAIAAAAAAQAABAAAAAABAAAKAAAAAAEAAAQAAAAAAQAAAAAAAAABAAACAAAAAAEAAAoAAAAAAQAABAAAAAABAAAAAAAAAAEAAAIAAAAAAQAACgAAAAABAAAEAAAAAAEAAAAAAAAAAQAAAgAAAAABAAAKAAAAAAEAAAQAAAAAAQAAAAAAAAABAAACAAAAAAEAAAoAAAAAAQAABAAAAAABAAAAAAAAAAEAAAIAAAAAAQAACgAAAAABAAAEAAAAAAEAAAAAAAAAAQAAAgAAAAABAAAEAAAAAAEAAAoAAAAAAQAABAAAAAABAAAAAAAAAAEAAAIAAAAAAQAACgAAAAABAAAEAAAAAAEAAAAAAAAAAQAAAgAAAAABAAAKAAAAAAEAAAQAAAAAAQAAAAAAAAABAAACAAAAAAEAAAoAAAAAAQAABAAAAAABAAAAAAAAAAEAAAIAAAAAAQAACgAAAAABAAAEAAAAAAEAAAAAAAAAAQAAAgAAAAAcc3RzYwAAAAAAAAABAAAAAQAAAMoAAAABAAADPHN0c3oAAAAAAAAAAAAAAMoAAAViAAAAFwAAACsAAAAYAAAAFAAAABQAAAAdAAAAHAAAABwAAAAcAAAAHAAAACkAAAAaAAAAFAAAABQAAAAgAAAAHAAAAB0AAAAcAAAAKwAAABoAAAAUAAAAFAAAACcAAAAZAAAAFAAAABQAAAAeAAAAKQAAABkAAAATAAAAFAAAAB4AAAAbAAAAHAAAABwAAAAdAAAAHQAAACAAAAAZAAAAEwAAABQAAAAcAAAAFwAAABQAAAAUAAAAHQAAAC8AAAAYAAAAFAAAABMAAAAeAAAALQAAABoAAAAUAAAAFAAAAB0AAAAgAAAAFQAAABIAAAATAAAAHgAAABYAAAAQAAAAEwAAABMAAAAXAAAAEAAAABMAAAATAAAAFwAAABAAAAATAAAAEwAAABcAAAAQAAAAEwAAABMAAAAXAAAAEAAAABMAAAATAAAAFwAAABAAAAATAAAAEwAAABcAAAAQAAAAEwAAABMAAAAqAAAAFAAAABMAAAAUAAAAKgAAABQAAAAUAAAAEwAAABcAAAAQAAAAFAAAABQAAAAXAAAAEAAAABQAAAAUAAAAFwAAABAAAAAUAAAAFAAAACgAAAAUAAAAEwAAABQAAAAeAAAAGgAAABYAAAATAAAAFAAAABYAAAAUAAAAEwAAABQAAAAfAAAAFgAAABMAAAAUAAAAHQAAABsAAAAcAAAAIAAAABcAAAATAAAAEwAAAB0AAAAdAAAAJgAAABkAAAAUAAAAFAAAACsAAAAZAAAAFAAAABQAAAAnAAAAGQAAABQAAAAUAAAAFwAAABcAAAAUAAAAFAAAACIAAAAZAAAAEwAAABQAAAAeAAAAJwAAABkAAAAUAAAAEwAAACgAAAAZAAAAFAAAABQAAAAgAAAAFAAAABQAAAATAAAAHwAAABkAAAAUAAAAFAAAACEAAAAZAAAAFAAAABMAAAAoAAAAGQAAABQAAAAUAAAAHgAAACkAAAAZAAAAFAAAABQAAAAfAAAAFAAAABQAAAATAAAAFgAAABQAAAAUAAAAFAAAABwAAAAZAAAAEwAAABMAAAAeAAAAKQAAABQAAAAoAAAAFHN0Y28AAAAAAAAAAQAAADAAAABidWR0YQAAAFptZXRhAAAAAAAAACFoZGxyAAAAAAAAAABtZGlyYXBwbAAAAAAAAAAAAAAAAC1pbHN0AAAAJal0b28AAAAdZGF0YQAAAAEAAAAATGF2ZjU2LjQwLjEwMQ==\" type=\"video/mp4\" />\n",
       "             </video>"
      ],
      "text/plain": [
       "<IPython.core.display.HTML object>"
      ]
     },
     "execution_count": 30,
     "metadata": {},
     "output_type": "execute_result"
    }
   ],
   "source": [
    "HTML(display_videos('cnn_train300.mp4'))"
   ]
  },
  {
   "cell_type": "markdown",
   "metadata": {},
   "source": [
    "***\n",
    "***\n",
    "__Question 9__ Test both algorithms and compare their performances. Which issue(s) do you observe? Observe also different behaviors by changing the temperature."
   ]
  },
  {
   "cell_type": "code",
   "execution_count": null,
   "metadata": {},
   "outputs": [],
   "source": [
    "env = Environment(grid_size=size, max_time=T,temperature=0.3)\n",
    "agent_cnn = DQN_CNN(size, lr=.1, epsilon = 0.1, memory_size=2000, batch_size = 32)\n",
    "agent_cnn.load(name_weights='cnn_trainmodel.h5',name_model='cnn_trainmodel.json')\n",
    "\n",
    "agent_fc = DQN_FC(size, lr=.1, epsilon = 0.1, memory_size=2000, batch_size = 32)\n",
    "agent_cnn.load(name_weights='fc_trainmodel.h5',name_model='fc_trainmodel.json')\n",
    "print('Test of the CNN')\n",
    "test(agent_cnn,env,epochs_test,prefix='cnn_test')\n",
    "print('Test of the FC')\n",
    "test(agent_fc,env,epochs_test,prefix='fc_test')"
   ]
  },
  {
   "cell_type": "code",
   "execution_count": null,
   "metadata": {},
   "outputs": [],
   "source": [
    "HTML(display_videos('cnn_test10.mp4'))"
   ]
  },
  {
   "cell_type": "code",
   "execution_count": null,
   "metadata": {},
   "outputs": [],
   "source": [
    "HTML(display_videos('fc_test10.mp4'))"
   ]
  },
  {
   "cell_type": "markdown",
   "metadata": {},
   "source": []
  },
  {
   "cell_type": "markdown",
   "metadata": {},
   "source": [
    "***\n",
    "\n",
    "The algorithm tends to not explore the map which can be an issue. We propose two ideas in order to encourage exploration:\n",
    "1. Incorporating a decreasing $\\epsilon$-greedy exploration. You can use the method ```set_epsilon```\n",
    "2. Append via the environment a new state that describes if a cell has been visited or not\n",
    "\n",
    "***\n",
    "__Question 10__ Design a new ```train_explore``` function and environment class ```EnvironmentExploring``` to tackle the issue of exploration.\n",
    "\n"
   ]
  },
  {
   "cell_type": "code",
   "execution_count": null,
   "metadata": {},
   "outputs": [],
   "source": [
    "def train_explore(agent,env,epoch,prefix=''):\n",
    "    pass\n",
    "        \n",
    "class EnvironmentExploring(object):\n",
    "    def __init__(self, grid_size=10, max_time=500, temperature=0.1):\n",
    "        pass\n",
    "    \n",
    "## use those samples of code:\n",
    "#In train explore:\n",
    "state, reward, game_over = env.act(action, train=True)\n",
    "\n",
    "## In Environment exploring:\n",
    "# You will have to change n_state to 3 because you will use one more layer!\n",
    "reward = 0\n",
    "if train:\n",
    "    reward = -self.malus_position[self.x, self.y]\n",
    "self.malus_position[self.x, self.y] = 0.1\n",
    "\n",
    "reward = reward + self.board[self.x, self.y]\n",
    "# 3 \"feature\" states instead of 2\n",
    "state = np.concatenate((self.malus_position.reshape(self.grid_size, self.grid_size,1),\n",
    "                                self.board.reshape(self.grid_size, self.grid_size,1),\n",
    "                        self.position.reshape(self.grid_size, self.grid_size,1)),axis=2)"
   ]
  },
  {
   "cell_type": "code",
   "execution_count": null,
   "metadata": {},
   "outputs": [],
   "source": [
    "# Training\n",
    "env = EnvironmentExploring(grid_size=size, max_time=T, temperature=0.3)\n",
    "agent = DQN_CNN(size, lr=.1, epsilon = 0.1, memory_size=2000, batch_size = 32,n_state=3)\n",
    "train_explore(agent, env, epochs_train, prefix='cnn_train_explore')\n",
    "HTML(display_videos('cnn_train_explore10.mp4'))"
   ]
  },
  {
   "cell_type": "code",
   "execution_count": null,
   "metadata": {},
   "outputs": [],
   "source": [
    "# Evaluation\n",
    "test(agent,env,epochs_test,prefix='cnn_test_explore')\n",
    "HTML(display_videos('cnn_test_explore10.mp4'))"
   ]
  },
  {
   "cell_type": "markdown",
   "metadata": {},
   "source": [
    "***\n",
    "***\n",
    "__BONUS question__ Use the expert DQN from the previous question to generate some winning games. Train a model that mimicks its behavior. Compare the performances."
   ]
  },
  {
   "cell_type": "markdown",
   "metadata": {},
   "source": []
  },
  {
   "cell_type": "markdown",
   "metadata": {},
   "source": [
    "***"
   ]
  }
 ],
 "metadata": {
  "kernelspec": {
   "display_name": "Python 3",
   "language": "python",
   "name": "python3"
  },
  "language_info": {
   "codemirror_mode": {
    "name": "ipython",
    "version": 3
   },
   "file_extension": ".py",
   "mimetype": "text/x-python",
   "name": "python",
   "nbconvert_exporter": "python",
   "pygments_lexer": "ipython3",
   "version": "3.5.2"
  }
 },
 "nbformat": 4,
 "nbformat_minor": 2
}
